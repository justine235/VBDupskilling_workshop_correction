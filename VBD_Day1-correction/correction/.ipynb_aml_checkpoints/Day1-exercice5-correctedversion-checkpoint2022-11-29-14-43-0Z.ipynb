{
  "cells": [
    {
      "cell_type": "markdown",
      "source": [
        "For this workshop, you need:\n",
        "\n",
        "* An Azure Machine Learning workspace. \n",
        "* The Azure Machine Learning Python SDK v2 installed. \n",
        "\n",
        "To install the SDK you can either,\n",
        "\n",
        "Create a compute instance, which already has installed the latest AzureML Python SDK and is pre-configured for ML workflows.\n",
        "\n",
        "Use the followings commands to install Azure ML Python SDK v2:\n",
        "\n",
        "```bash\n",
        "conda activate <virtual_env_name>\n",
        "pip install azure-ai-ml==1.0.0\n",
        "```\n",
        "\n",
        "If you're using a virtual env, make sure to install the sdk inside the virtual env.\n",
        "\n",
        "The virtual environment for sdkv2 on Azure Notebooks is called `azureml_py310_sdkv2`.\n"
      ],
      "metadata": {}
    },
    {
      "cell_type": "markdown",
      "source": [
        "## Connect to ML Client"
      ],
      "metadata": {
        "nteract": {
          "transient": {
            "deleting": false
          }
        },
        "tags": []
      }
    },
    {
      "cell_type": "markdown",
      "source": [
        "To connect to a workspace, you need to provide a subscription, resource group and workspace name. These details are used in the `MLClient` from `azure.ai.ml` to get a handle to the required Azure Machine Learning workspace.\n",
        "\n",
        "In the following example, the default Azure authentication is used along with the default workspace configuration or from any `config.json` file you might have copied into the folders structure. If no `config.json` is found, then you need to manually introduce the subscription_id, resource_group and workspace when creating `MLClient`.\n",
        "\n",
        "```python\n",
        "from azure.identity import DefaultAzureCredential\n",
        "from azure.ai.ml import MLClient\n",
        "\n",
        "credential = DefaultAzureCredential()\n",
        "ml_client = None\n",
        "try:\n",
        "    ml_client = MLClient.from_config(credential)\n",
        "except Exception as ex:\n",
        "    print(ex)\n",
        "    # Enter details of your AzureML workspace\n",
        "    subscription_id = \"<SUBSCRIPTION_ID>\"\n",
        "    resource_group = \"<RESOURCE_GROUP>\"\n",
        "    workspace = \"<AZUREML_WORKSPACE_NAME>\"\n",
        "    ml_client = MLClient(credential, subscription_id, resource_group, workspace)\n",
        "```\n"
      ],
      "metadata": {}
    },
    {
      "cell_type": "code",
      "source": [
        "from azure.identity import DefaultAzureCredential, InteractiveBrowserCredential\n",
        "from azure.ai.ml import MLClient\n",
        "\n",
        "try:\n",
        "    credential = DefaultAzureCredential()\n",
        "    # Check if given credential can get token successfully.\n",
        "    credential.get_token(\"https://management.azure.com/.default\")\n",
        "except Exception as ex:\n",
        "    # Fall back to InteractiveBrowserCredential in case DefaultAzureCredential not work\n",
        "    credential = InteractiveBrowserCredential()\n",
        "\n",
        "# Add config.json file to the workspace\n",
        "# Get a handle to workspace\n",
        "ml_client = MLClient.from_config(credential=credential, path=\"config.json\")"
      ],
      "outputs": [
        {
          "output_type": "stream",
          "name": "stderr",
          "text": "Found the config file in: /mnt/batch/tasks/shared/LS_root/mounts/clusters/jcharley4/code/Users/jcharley/config.json\n"
        }
      ],
      "execution_count": 11,
      "metadata": {
        "collapsed": false,
        "gather": {
          "logged": 1672323698390
        },
        "jupyter": {
          "outputs_hidden": false,
          "source_hidden": false
        },
        "nteract": {
          "transient": {
            "deleting": false
          }
        }
      }
    },
    {
      "cell_type": "markdown",
      "source": [
        "# Model Training"
      ],
      "metadata": {
        "nteract": {
          "transient": {
            "deleting": false
          }
        },
        "tags": []
      }
    },
    {
      "cell_type": "markdown",
      "source": [
        "## 1. Create Managed Compute\n",
        "\n",
        "A compute is a designated compute resource where you run your job or host your endpoint. Azure Machine learning supports the following types of compute:\n",
        "\n",
        "- **Compute instance** - a fully configured and managed development environment in the cloud. You can use the instance as a training or inference compute for development and testing. It's similar to a virtual machine on the cloud.\n",
        "\n",
        "- **Compute cluster** - a managed-compute infrastructure that allows you to easily create a cluster of CPU or GPU compute nodes in the cloud.\n",
        "\n",
        "- **Inference cluster** - used to deploy trained machine learning models to Azure Kubernetes Service. You can create an Azure Kubernetes Service (AKS) cluster from your Azure ML workspace, or attach an existing AKS cluster.\n",
        "\n",
        "- **Attached compute** - You can attach your own compute resources to your workspace and use them for training and inference.\n",
        "\n",
        "You can create a compute using the Studio, the cli and the sdk.\n",
        "\n",
        "<hr>"
      ],
      "metadata": {
        "nteract": {
          "transient": {
            "deleting": false
          }
        }
      }
    },
    {
      "cell_type": "code",
      "source": [
        "from azure.ai.ml.entities import AmlCompute\n",
        "\n",
        "my_cluster = AmlCompute(\n",
        "    name=\"cpu-cluster-CA\",\n",
        "    type=\"amlcompute\", \n",
        "    size=\"STANDARD_DS3_V2\", \n",
        "    min_instances=0, \n",
        "    max_instances=2,\n",
        "    location=\"westeurope\", \t\n",
        ")\n",
        "\n",
        "ml_client.compute.begin_create_or_update(my_cluster)\n"
      ],
      "outputs": [
        {
          "output_type": "execute_result",
          "execution_count": 2,
          "data": {
            "text/plain": "AmlCompute({'type': 'amlcompute', 'created_on': None, 'provisioning_state': 'Succeeded', 'provisioning_errors': None, 'name': 'cpu-cluster-CA', 'description': None, 'tags': {}, 'properties': {}, 'id': '/subscriptions/66914bb5-9cb2-4f6d-a84d-8ff900446b22/resourceGroups/Learning/providers/Microsoft.MachineLearningServices/workspaces/test_learn/computes/cpu-cluster-CA', 'base_path': './', 'creation_context': None, 'serialize': <msrest.serialization.Serializer object at 0x7f208940e0e0>, 'resource_id': None, 'location': 'westeurope', 'size': 'STANDARD_DS3_V2', 'min_instances': 0, 'max_instances': 2, 'idle_time_before_scale_down': 120.0, 'identity': None, 'ssh_public_access_enabled': True, 'ssh_settings': None, 'network_settings': <azure.ai.ml.entities._compute.compute.NetworkSettings object at 0x7f208940e440>, 'tier': 'dedicated'})"
          },
          "metadata": {}
        }
      ],
      "execution_count": 2,
      "metadata": {
        "collapsed": false,
        "gather": {
          "logged": 1672320947763
        },
        "jupyter": {
          "outputs_hidden": false,
          "source_hidden": false
        },
        "nteract": {
          "transient": {
            "deleting": false
          }
        }
      }
    },
    {
      "cell_type": "markdown",
      "source": [
        "## 2. Register File Data Asset\n",
        "\n",
        "**Datastore** - Azure Machine Learning Datastores securely keep the connection information to your data storage on Azure, so you don't have to code it in your scripts.\n",
        "\n",
        "An Azure Machine Learning datastore is a **reference** to an **existing** storage account on Azure. The benefits of creating and using a datastore are:\n",
        "* A common and easy-to-use API to interact with different storage type. \n",
        "* Easier to discover useful datastores when working as a team.\n",
        "* When using credential-based access (service principal/SAS/key), the connection information is secured so you don't have to code it in your scripts.\n",
        "\n",
        "Supported Data Resources: \n",
        "\n",
        "* Azure Storage blob container\n",
        "* Azure Storage file share\n",
        "* Azure Data Lake Gen 1\n",
        "* Azure Data Lake Gen 2\n",
        "* Azure SQL Database \n",
        "* Azure PostgreSQL Database\n",
        "* Azure MySQL Database\n",
        "\n",
        "It is not a requirement to use Azure Machine Learning datastores - you can use storage URIs directly assuming you have access to the underlying data.\n",
        "\n",
        "You can create a datastore using the Studio, the cli and the sdk.\n",
        "\n",
        "<hr>\n",
        "\n",
        "\n",
        "\n",
        "**Data asset** - Create data assets in your workspace to share with team members, version, and track data lineage.\n",
        "\n",
        "By creating a data asset, you create a reference to the data source location, along with a copy of its metadata. \n",
        "\n",
        "The benefits of creating data assets are:\n",
        "\n",
        "* You can **share and reuse data** with other members of the team such that they do not need to remember file locations.\n",
        "* You can **seamlessly access data** during model training (on any supported compute type) without worrying about connection strings or data paths.\n",
        "* You can **version** the data.\n",
        "\n",
        "<hr>\n"
      ],
      "metadata": {
        "nteract": {
          "transient": {
            "deleting": false
          }
        }
      }
    },
    {
      "cell_type": "code",
      "source": [
        "from azure.ai.ml.entities import Data\n",
        "from azure.ai.ml.constants import AssetTypes\n",
        "\n",
        "my_data = Data(\n",
        "    path=\"../data/Day1-exercice5-Taxi/taxi-data.csv\",\n",
        "    type=AssetTypes.URI_FILE, # URI_FOLDER\n",
        "    description=\"Taxi dataset\",\n",
        "    name=\"taxi-data\"\n",
        ")\n",
        "ml_client.data.create_or_update(my_data)"
      ],
      "outputs": [
        {
          "output_type": "stream",
          "name": "stderr",
          "text": "\r\u001b[32mUploading taxi-data.csv\u001b[32m (< 1 MB): 0.00B [00:00, ?B/s]\r\u001b[32mUploading taxi-data.csv\u001b[32m (< 1 MB): 100%|██████████| 1.22M/1.22M [00:00<00:00, 9.69MB/s]\r\u001b[32mUploading taxi-data.csv\u001b[32m (< 1 MB): 100%|██████████| 1.22M/1.22M [00:00<00:00, 9.57MB/s]\n\u001b[39m\n\n"
        },
        {
          "output_type": "execute_result",
          "execution_count": 5,
          "data": {
            "text/plain": "Data({'type': 'uri_file', 'is_anonymous': False, 'auto_increment_version': False, 'name': 'taxi-data', 'description': 'Taxi dataset', 'tags': {}, 'properties': {}, 'id': '/subscriptions/66914bb5-9cb2-4f6d-a84d-8ff900446b22/resourceGroups/Learning/providers/Microsoft.MachineLearningServices/workspaces/test_learn/data/taxi-data/versions/3', 'base_path': './', 'creation_context': <azure.ai.ml._restclient.v2022_05_01.models._models_py3.SystemData object at 0x7f2088220250>, 'serialize': <msrest.serialization.Serializer object at 0x7f208821bfa0>, 'version': '3', 'latest_version': None, 'path': 'azureml://subscriptions/66914bb5-9cb2-4f6d-a84d-8ff900446b22/resourcegroups/Learning/workspaces/test_learn/datastores/workspaceblobstore/paths/LocalUpload/2e56e9007690a9db90f90b8830ddcde4/taxi-data.csv', 'referenced_uris': None})"
          },
          "metadata": {}
        }
      ],
      "execution_count": 5,
      "metadata": {
        "collapsed": false,
        "gather": {
          "logged": 1672320987170
        },
        "jupyter": {
          "outputs_hidden": false,
          "source_hidden": false
        },
        "nteract": {
          "transient": {
            "deleting": false
          }
        }
      }
    },
    {
      "cell_type": "markdown",
      "source": [
        "## GOOD TO KNOW : Create a tabular dataset/data asset - MLTable format"
      ],
      "metadata": {
        "nteract": {
          "transient": {
            "deleting": false
          }
        }
      }
    },
    {
      "cell_type": "code",
      "source": [
        "! cat ../data/Day1-exercice5-Taxi/MLTable"
      ],
      "outputs": [
        {
          "output_type": "stream",
          "name": "stdout",
          "text": "$schema: https://azuremlschemas.azureedge.net/latest/MLTable.schema.json \r\n\r\npaths:\r\n    - pattern: ./taxi-data.csv\r\n\r\ntransformations:\r\n  - read_delimited:\r\n      delimiter: \",\"\r\n      header: all_files_same_headers\r\n      encoding: utf8\r\n"
        }
      ],
      "execution_count": 15,
      "metadata": {
        "jupyter": {
          "source_hidden": false,
          "outputs_hidden": false
        },
        "nteract": {
          "transient": {
            "deleting": false
          }
        }
      }
    },
    {
      "cell_type": "code",
      "source": [
        "# ML table file - ML table target a folder\r\n",
        "import mltable\r\n",
        "\r\n",
        "tbl = mltable.load(uri=\"../data/Day1-exercice5-Taxi\")\r\n",
        "tbl.to_pandas_dataframe()"
      ],
      "outputs": [
        {
          "output_type": "execute_result",
          "execution_count": 14,
          "data": {
            "text/plain": "      Column1  cost  distance  dropoff_latitude  dropoff_longitude  \\\n0           0   4.5      0.83         40.694546         -73.976112   \n1           1   6.0      1.27         40.812149         -73.959755   \n2           2   9.5      1.80         40.678741         -73.980309   \n3           3   4.0      0.50         40.754715         -73.925499   \n4           4   6.0      0.90         40.669662         -73.911041   \n...       ...   ...       ...               ...                ...   \n9768     9768   9.0      1.39         40.757576         -73.974464   \n9769     9769   9.5      1.70         40.770500         -73.989861   \n9770     9770   6.5      1.40         40.739834         -73.985512   \n9771     9771   7.0      0.90         40.769672         -73.966759   \n9772     9772   7.0      1.32         40.755695         -73.968040   \n\n      passengers  pickup_latitude  pickup_longitude  store_forward  vendor  \\\n0              1        40.693836        -73.987267          False       2   \n1              1        40.801468        -73.948456          False       2   \n2              1        40.679798        -73.955444          False       2   \n3              1        40.760818        -73.922935          False       1   \n4              1        40.664940        -73.923042          False       1   \n...          ...              ...               ...            ...     ...   \n9768           1        40.755352        -73.985252          False       2   \n9769           1        40.755215        -73.981499          False       1   \n9770           1        40.724628        -73.987572          False       1   \n9771           1        40.766201        -73.952728          False       1   \n9772           1        40.766354        -73.983566          False       2   \n\n      ...  pickup_monthday  pickup_hour  pickup_minute  pickup_second  \\\n0     ...                3           21              2             35   \n1     ...               19           21             49             17   \n2     ...                5            9             46             18   \n3     ...                8           17             49             12   \n4     ...               29           10             28             21   \n...   ...              ...          ...            ...            ...   \n9768  ...               29           21             10             23   \n9769  ...                4           14             32             16   \n9770  ...               25            6              6             39   \n9771  ...               12           13             42             38   \n9772  ...                7           22             27             41   \n\n      dropoff_weekday  dropoff_month  dropoff_monthday  dropoff_hour  \\\n0                   6           True                 3            21   \n1                   1           True                19            21   \n2                   1           True                 5             9   \n3                   4           True                 8            17   \n4                   4           True                29            10   \n...               ...            ...               ...           ...   \n9768                4           True                29            21   \n9769                0           True                 4            14   \n9770                0           True                25             6   \n9771                1           True                12            13   \n9772                3           True                 7            22   \n\n      dropoff_minute  dropoff_second  \n0                  5              52  \n1                 54              37  \n2                 57              28  \n3                 52              20  \n4                 34              59  \n...              ...             ...  \n9768              22               1  \n9769              44              38  \n9770              12              10  \n9771              50              54  \n9772              34              39  \n\n[9773 rows x 22 columns]",
            "text/html": "<div>\n<style scoped>\n    .dataframe tbody tr th:only-of-type {\n        vertical-align: middle;\n    }\n\n    .dataframe tbody tr th {\n        vertical-align: top;\n    }\n\n    .dataframe thead th {\n        text-align: right;\n    }\n</style>\n<table border=\"1\" class=\"dataframe\">\n  <thead>\n    <tr style=\"text-align: right;\">\n      <th></th>\n      <th>Column1</th>\n      <th>cost</th>\n      <th>distance</th>\n      <th>dropoff_latitude</th>\n      <th>dropoff_longitude</th>\n      <th>passengers</th>\n      <th>pickup_latitude</th>\n      <th>pickup_longitude</th>\n      <th>store_forward</th>\n      <th>vendor</th>\n      <th>...</th>\n      <th>pickup_monthday</th>\n      <th>pickup_hour</th>\n      <th>pickup_minute</th>\n      <th>pickup_second</th>\n      <th>dropoff_weekday</th>\n      <th>dropoff_month</th>\n      <th>dropoff_monthday</th>\n      <th>dropoff_hour</th>\n      <th>dropoff_minute</th>\n      <th>dropoff_second</th>\n    </tr>\n  </thead>\n  <tbody>\n    <tr>\n      <th>0</th>\n      <td>0</td>\n      <td>4.5</td>\n      <td>0.83</td>\n      <td>40.694546</td>\n      <td>-73.976112</td>\n      <td>1</td>\n      <td>40.693836</td>\n      <td>-73.987267</td>\n      <td>False</td>\n      <td>2</td>\n      <td>...</td>\n      <td>3</td>\n      <td>21</td>\n      <td>2</td>\n      <td>35</td>\n      <td>6</td>\n      <td>True</td>\n      <td>3</td>\n      <td>21</td>\n      <td>5</td>\n      <td>52</td>\n    </tr>\n    <tr>\n      <th>1</th>\n      <td>1</td>\n      <td>6.0</td>\n      <td>1.27</td>\n      <td>40.812149</td>\n      <td>-73.959755</td>\n      <td>1</td>\n      <td>40.801468</td>\n      <td>-73.948456</td>\n      <td>False</td>\n      <td>2</td>\n      <td>...</td>\n      <td>19</td>\n      <td>21</td>\n      <td>49</td>\n      <td>17</td>\n      <td>1</td>\n      <td>True</td>\n      <td>19</td>\n      <td>21</td>\n      <td>54</td>\n      <td>37</td>\n    </tr>\n    <tr>\n      <th>2</th>\n      <td>2</td>\n      <td>9.5</td>\n      <td>1.80</td>\n      <td>40.678741</td>\n      <td>-73.980309</td>\n      <td>1</td>\n      <td>40.679798</td>\n      <td>-73.955444</td>\n      <td>False</td>\n      <td>2</td>\n      <td>...</td>\n      <td>5</td>\n      <td>9</td>\n      <td>46</td>\n      <td>18</td>\n      <td>1</td>\n      <td>True</td>\n      <td>5</td>\n      <td>9</td>\n      <td>57</td>\n      <td>28</td>\n    </tr>\n    <tr>\n      <th>3</th>\n      <td>3</td>\n      <td>4.0</td>\n      <td>0.50</td>\n      <td>40.754715</td>\n      <td>-73.925499</td>\n      <td>1</td>\n      <td>40.760818</td>\n      <td>-73.922935</td>\n      <td>False</td>\n      <td>1</td>\n      <td>...</td>\n      <td>8</td>\n      <td>17</td>\n      <td>49</td>\n      <td>12</td>\n      <td>4</td>\n      <td>True</td>\n      <td>8</td>\n      <td>17</td>\n      <td>52</td>\n      <td>20</td>\n    </tr>\n    <tr>\n      <th>4</th>\n      <td>4</td>\n      <td>6.0</td>\n      <td>0.90</td>\n      <td>40.669662</td>\n      <td>-73.911041</td>\n      <td>1</td>\n      <td>40.664940</td>\n      <td>-73.923042</td>\n      <td>False</td>\n      <td>1</td>\n      <td>...</td>\n      <td>29</td>\n      <td>10</td>\n      <td>28</td>\n      <td>21</td>\n      <td>4</td>\n      <td>True</td>\n      <td>29</td>\n      <td>10</td>\n      <td>34</td>\n      <td>59</td>\n    </tr>\n    <tr>\n      <th>...</th>\n      <td>...</td>\n      <td>...</td>\n      <td>...</td>\n      <td>...</td>\n      <td>...</td>\n      <td>...</td>\n      <td>...</td>\n      <td>...</td>\n      <td>...</td>\n      <td>...</td>\n      <td>...</td>\n      <td>...</td>\n      <td>...</td>\n      <td>...</td>\n      <td>...</td>\n      <td>...</td>\n      <td>...</td>\n      <td>...</td>\n      <td>...</td>\n      <td>...</td>\n      <td>...</td>\n    </tr>\n    <tr>\n      <th>9768</th>\n      <td>9768</td>\n      <td>9.0</td>\n      <td>1.39</td>\n      <td>40.757576</td>\n      <td>-73.974464</td>\n      <td>1</td>\n      <td>40.755352</td>\n      <td>-73.985252</td>\n      <td>False</td>\n      <td>2</td>\n      <td>...</td>\n      <td>29</td>\n      <td>21</td>\n      <td>10</td>\n      <td>23</td>\n      <td>4</td>\n      <td>True</td>\n      <td>29</td>\n      <td>21</td>\n      <td>22</td>\n      <td>1</td>\n    </tr>\n    <tr>\n      <th>9769</th>\n      <td>9769</td>\n      <td>9.5</td>\n      <td>1.70</td>\n      <td>40.770500</td>\n      <td>-73.989861</td>\n      <td>1</td>\n      <td>40.755215</td>\n      <td>-73.981499</td>\n      <td>False</td>\n      <td>1</td>\n      <td>...</td>\n      <td>4</td>\n      <td>14</td>\n      <td>32</td>\n      <td>16</td>\n      <td>0</td>\n      <td>True</td>\n      <td>4</td>\n      <td>14</td>\n      <td>44</td>\n      <td>38</td>\n    </tr>\n    <tr>\n      <th>9770</th>\n      <td>9770</td>\n      <td>6.5</td>\n      <td>1.40</td>\n      <td>40.739834</td>\n      <td>-73.985512</td>\n      <td>1</td>\n      <td>40.724628</td>\n      <td>-73.987572</td>\n      <td>False</td>\n      <td>1</td>\n      <td>...</td>\n      <td>25</td>\n      <td>6</td>\n      <td>6</td>\n      <td>39</td>\n      <td>0</td>\n      <td>True</td>\n      <td>25</td>\n      <td>6</td>\n      <td>12</td>\n      <td>10</td>\n    </tr>\n    <tr>\n      <th>9771</th>\n      <td>9771</td>\n      <td>7.0</td>\n      <td>0.90</td>\n      <td>40.769672</td>\n      <td>-73.966759</td>\n      <td>1</td>\n      <td>40.766201</td>\n      <td>-73.952728</td>\n      <td>False</td>\n      <td>1</td>\n      <td>...</td>\n      <td>12</td>\n      <td>13</td>\n      <td>42</td>\n      <td>38</td>\n      <td>1</td>\n      <td>True</td>\n      <td>12</td>\n      <td>13</td>\n      <td>50</td>\n      <td>54</td>\n    </tr>\n    <tr>\n      <th>9772</th>\n      <td>9772</td>\n      <td>7.0</td>\n      <td>1.32</td>\n      <td>40.755695</td>\n      <td>-73.968040</td>\n      <td>1</td>\n      <td>40.766354</td>\n      <td>-73.983566</td>\n      <td>False</td>\n      <td>2</td>\n      <td>...</td>\n      <td>7</td>\n      <td>22</td>\n      <td>27</td>\n      <td>41</td>\n      <td>3</td>\n      <td>True</td>\n      <td>7</td>\n      <td>22</td>\n      <td>34</td>\n      <td>39</td>\n    </tr>\n  </tbody>\n</table>\n<p>9773 rows × 22 columns</p>\n</div>"
          },
          "metadata": {}
        }
      ],
      "execution_count": 14,
      "metadata": {
        "jupyter": {
          "source_hidden": false,
          "outputs_hidden": false
        },
        "nteract": {
          "transient": {
            "deleting": false
          }
        },
        "gather": {
          "logged": 1672323965355
        }
      }
    },
    {
      "cell_type": "code",
      "source": [
        "from azure.ai.ml.entities import Data\r\n",
        "from azure.ai.ml.constants import AssetTypes\r\n",
        "\r\n",
        "# my_path must point to folder containing MLTable artifact (MLTable file + data\r\n",
        "# Supported paths include:\r\n",
        "# local: './<path>'\r\n",
        "# blob:  'https://<account_name>.blob.core.windows.net/<container_name>/<path>'\r\n",
        "# ADLS gen2: 'abfss://<file_system>@<account_name>.dfs.core.windows.net/<path>/'\r\n",
        "# Datastore: 'azureml://datastores/<data_store_name>/paths/<path>'\r\n",
        "\r\n",
        "my_data = Data(\r\n",
        "    path=\"../data/Day1-exercice5-Taxi/\",\r\n",
        "    type=AssetTypes.MLTABLE,\r\n",
        "    description=\"Taxi tabular dataset\",\r\n",
        "    name=\"taxi-mltable-data\",\r\n",
        ")\r\n",
        "\r\n",
        "ml_client.data.create_or_update(my_data)"
      ],
      "outputs": [
        {
          "output_type": "execute_result",
          "execution_count": 20,
          "data": {
            "text/plain": "Data({'skip_validation': False, 'mltable_schema_url': None, 'referenced_uris': ['./taxi-data.csv'], 'type': 'mltable', 'is_anonymous': False, 'auto_increment_version': False, 'name': 'taxi-mltable-data', 'description': 'Taxi tabular dataset', 'tags': {}, 'properties': {}, 'id': '/subscriptions/66914bb5-9cb2-4f6d-a84d-8ff900446b22/resourceGroups/Learning/providers/Microsoft.MachineLearningServices/workspaces/test_learn/data/taxi-mltable-data/versions/1', 'Resource__source_path': None, 'base_path': '/mnt/batch/tasks/shared/LS_root/mounts/clusters/jcharley4/code/Users/jcharley/VBD_Day1/correction', 'creation_context': <azure.ai.ml.entities._system_data.SystemData object at 0x7f131c1bef70>, 'serialize': <msrest.serialization.Serializer object at 0x7f131c1befa0>, 'version': '1', 'latest_version': None, 'path': 'azureml://subscriptions/66914bb5-9cb2-4f6d-a84d-8ff900446b22/resourcegroups/Learning/workspaces/test_learn/datastores/workspaceblobstore/paths/LocalUpload/1bbc5d0cd9365b9adf705e5fdfd7a159/Day1-exercice5-Taxi/', 'datastore': None})"
          },
          "metadata": {}
        }
      ],
      "execution_count": 20,
      "metadata": {
        "jupyter": {
          "source_hidden": false,
          "outputs_hidden": false
        },
        "nteract": {
          "transient": {
            "deleting": false
          }
        },
        "gather": {
          "logged": 1672324762979
        }
      }
    },
    {
      "cell_type": "markdown",
      "source": [
        "## 3. Register Train Environment\r\n",
        "\r\n",
        "Azure Machine Learning environments define the execution environments for your **jobs** or **deployments** and encapsulate the dependencies for your code. \r\n",
        "\r\n",
        "Azure ML uses the environment specification to create the Docker container that your **training** or **scoring code** runs in on the specified compute target.\r\n",
        "\r\n",
        "Create an environment from a\r\n",
        "* conda specification\r\n",
        "* Docker image\r\n",
        "* Docker build context\r\n",
        "\r\n",
        "There are two types of environments in Azure ML: **curated** and **custom environments**. Curated environments are predefined environments containing popular ML frameworks and tooling. Custom environments are user-defined.\r\n",
        "\r\n",
        "<hr>\r\n",
        "\r\n",
        "We can register an **environment** with cli v2 or sdk v2 using the following syntax:\r\n"
      ],
      "metadata": {
        "nteract": {
          "transient": {
            "deleting": false
          }
        }
      }
    },
    {
      "cell_type": "code",
      "source": [
        "from azure.ai.ml.entities import Environment\r\n",
        "\r\n",
        "my_environment = Environment(\r\n",
        "    image=\"mcr.microsoft.com/azureml/openmpi3.1.2-ubuntu18.04\",\r\n",
        "    conda_file=\"../../data-science/environment/train-conda.yml\",\r\n",
        "    name=\"taxi-train-env\",\r\n",
        "    description=\"Environment created from a Docker image plus Conda environment to train taxi model.\",\r\n",
        ")\r\n",
        "\r\n",
        "ml_client.environments.create_or_update(my_environment)"
      ],
      "outputs": [],
      "execution_count": null,
      "metadata": {
        "jupyter": {
          "source_hidden": false,
          "outputs_hidden": false
        },
        "nteract": {
          "transient": {
            "deleting": false
          }
        }
      }
    }
  ],
  "metadata": {
    "kernel_info": {
      "name": "python38-azureml"
    },
    "kernelspec": {
      "name": "python38-azureml",
      "language": "python",
      "display_name": "Python 3.8 - AzureML"
    },
    "language_info": {
      "name": "python",
      "version": "3.8.5",
      "mimetype": "text/x-python",
      "codemirror_mode": {
        "name": "ipython",
        "version": 3
      },
      "pygments_lexer": "ipython3",
      "nbconvert_exporter": "python",
      "file_extension": ".py"
    },
    "microsoft": {
      "host": {
        "AzureML": {
          "notebookHasBeenCompleted": true
        }
      }
    },
    "nteract": {
      "version": "nteract-front-end@1.0.0"
    }
  },
  "nbformat": 4,
  "nbformat_minor": 4
}