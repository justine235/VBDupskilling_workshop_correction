{
  "cells": [
    {
      "cell_type": "markdown",
      "source": [
        "For this workshop, you need:\n",
        "\n",
        "* An Azure Machine Learning workspace. \n",
        "* The Azure Machine Learning Python SDK v2 installed. \n",
        "\n",
        "To install the SDK you can either,\n",
        "\n",
        "Create a compute instance, which already has installed the latest AzureML Python SDK and is pre-configured for ML workflows.\n",
        "\n",
        "Use the followings commands to install Azure ML Python SDK v2:\n",
        "\n",
        "```bash\n",
        "conda activate <virtual_env_name>\n",
        "pip install azure-ai-ml==1.0.0\n",
        "```\n",
        "\n",
        "If you're using a virtual env, make sure to install the sdk inside the virtual env.\n",
        "\n",
        "The virtual environment for sdkv2 on Azure Notebooks is called `azureml_py310_sdkv2`.\n"
      ],
      "metadata": {}
    },
    {
      "cell_type": "markdown",
      "source": [
        "## Connect to ML Client"
      ],
      "metadata": {
        "nteract": {
          "transient": {
            "deleting": false
          }
        },
        "tags": []
      }
    },
    {
      "cell_type": "markdown",
      "source": [
        "To connect to a workspace, you need to provide a subscription, resource group and workspace name. These details are used in the `MLClient` from `azure.ai.ml` to get a handle to the required Azure Machine Learning workspace.\n",
        "\n",
        "In the following example, the default Azure authentication is used along with the default workspace configuration or from any `config.json` file you might have copied into the folders structure. If no `config.json` is found, then you need to manually introduce the subscription_id, resource_group and workspace when creating `MLClient`.\n",
        "\n",
        "```python\n",
        "from azure.identity import DefaultAzureCredential\n",
        "from azure.ai.ml import MLClient\n",
        "\n",
        "credential = DefaultAzureCredential()\n",
        "ml_client = None\n",
        "try:\n",
        "    ml_client = MLClient.from_config(credential)\n",
        "except Exception as ex:\n",
        "    print(ex)\n",
        "    # Enter details of your AzureML workspace\n",
        "    subscription_id = \"<SUBSCRIPTION_ID>\"\n",
        "    resource_group = \"<RESOURCE_GROUP>\"\n",
        "    workspace = \"<AZUREML_WORKSPACE_NAME>\"\n",
        "    ml_client = MLClient(credential, subscription_id, resource_group, workspace)\n",
        "```\n"
      ],
      "metadata": {}
    },
    {
      "cell_type": "code",
      "source": [
        "from azure.identity import DefaultAzureCredential, InteractiveBrowserCredential\n",
        "from azure.ai.ml import MLClient\n",
        "\n",
        "try:\n",
        "    credential = DefaultAzureCredential()\n",
        "    # Check if given credential can get token successfully.\n",
        "    credential.get_token(\"https://management.azure.com/.default\")\n",
        "except Exception as ex:\n",
        "    # Fall back to InteractiveBrowserCredential in case DefaultAzureCredential not work\n",
        "    credential = InteractiveBrowserCredential()\n",
        "\n",
        "# Add config.json file to the workspace\n",
        "# Get a handle to workspace\n",
        "ml_client = MLClient.from_config(credential=credential, path=\"config.json\")"
      ],
      "outputs": [
        {
          "output_type": "stream",
          "name": "stderr",
          "text": "Found the config file in: /mnt/batch/tasks/shared/LS_root/mounts/clusters/jcharley4/code/Users/jcharley/config.json\n"
        }
      ],
      "execution_count": 2,
      "metadata": {
        "collapsed": false,
        "gather": {
          "logged": 1672391457759
        },
        "jupyter": {
          "outputs_hidden": false,
          "source_hidden": false
        },
        "nteract": {
          "transient": {
            "deleting": false
          }
        }
      }
    },
    {
      "cell_type": "markdown",
      "source": [
        "# Model Training"
      ],
      "metadata": {
        "nteract": {
          "transient": {
            "deleting": false
          }
        },
        "tags": []
      }
    },
    {
      "cell_type": "markdown",
      "source": [
        "## 1. Create Managed Compute\n",
        "\n",
        "A compute is a designated compute resource where you run your job or host your endpoint. Azure Machine learning supports the following types of compute:\n",
        "\n",
        "- **Compute instance** - a fully configured and managed development environment in the cloud. You can use the instance as a training or inference compute for development and testing. It's similar to a virtual machine on the cloud.\n",
        "\n",
        "- **Compute cluster** - a managed-compute infrastructure that allows you to easily create a cluster of CPU or GPU compute nodes in the cloud.\n",
        "\n",
        "- **Inference cluster** - used to deploy trained machine learning models to Azure Kubernetes Service. You can create an Azure Kubernetes Service (AKS) cluster from your Azure ML workspace, or attach an existing AKS cluster.\n",
        "\n",
        "- **Attached compute** - You can attach your own compute resources to your workspace and use them for training and inference.\n",
        "\n",
        "You can create a compute using the Studio, the cli and the sdk.\n",
        "\n",
        "<hr>"
      ],
      "metadata": {
        "nteract": {
          "transient": {
            "deleting": false
          }
        }
      }
    },
    {
      "cell_type": "code",
      "source": [
        "from azure.ai.ml.entities import AmlCompute\n",
        "\n",
        "my_cluster = AmlCompute(\n",
        "    name=\"cpu-cluster-CA\",\n",
        "    type=\"amlcompute\", \n",
        "    size=\"STANDARD_DS3_V2\", \n",
        "    min_instances=0, \n",
        "    max_instances=2,\n",
        "    location=\"westeurope\", \t\n",
        ")\n",
        "\n",
        "ml_client.compute.begin_create_or_update(my_cluster)\n"
      ],
      "outputs": [
        {
          "output_type": "execute_result",
          "execution_count": 3,
          "data": {
            "text/plain": "<azure.core.polling._poller.LROPoller at 0x7f29f2bd6190>"
          },
          "metadata": {}
        }
      ],
      "execution_count": 3,
      "metadata": {
        "collapsed": false,
        "gather": {
          "logged": 1672391464286
        },
        "jupyter": {
          "outputs_hidden": false,
          "source_hidden": false
        },
        "nteract": {
          "transient": {
            "deleting": false
          }
        }
      }
    },
    {
      "cell_type": "markdown",
      "source": [
        "## 2. Register File Data Asset\n",
        "\n",
        "**Datastore** - Azure Machine Learning Datastores securely keep the connection information to your data storage on Azure, so you don't have to code it in your scripts.\n",
        "\n",
        "An Azure Machine Learning datastore is a **reference** to an **existing** storage account on Azure. The benefits of creating and using a datastore are:\n",
        "* A common and easy-to-use API to interact with different storage type. \n",
        "* Easier to discover useful datastores when working as a team.\n",
        "* When using credential-based access (service principal/SAS/key), the connection information is secured so you don't have to code it in your scripts.\n",
        "\n",
        "Supported Data Resources: \n",
        "\n",
        "* Azure Storage blob container\n",
        "* Azure Storage file share\n",
        "* Azure Data Lake Gen 1\n",
        "* Azure Data Lake Gen 2\n",
        "* Azure SQL Database \n",
        "* Azure PostgreSQL Database\n",
        "* Azure MySQL Database\n",
        "\n",
        "It is not a requirement to use Azure Machine Learning datastores - you can use storage URIs directly assuming you have access to the underlying data.\n",
        "\n",
        "You can create a datastore using the Studio, the cli and the sdk.\n",
        "\n",
        "<hr>\n",
        "\n",
        "\n",
        "\n",
        "**Data asset** - Create data assets in your workspace to share with team members, version, and track data lineage.\n",
        "\n",
        "By creating a data asset, you create a reference to the data source location, along with a copy of its metadata. \n",
        "\n",
        "The benefits of creating data assets are:\n",
        "\n",
        "* You can **share and reuse data** with other members of the team such that they do not need to remember file locations.\n",
        "* You can **seamlessly access data** during model training (on any supported compute type) without worrying about connection strings or data paths.\n",
        "* You can **version** the data.\n",
        "\n",
        "<hr>\n"
      ],
      "metadata": {
        "nteract": {
          "transient": {
            "deleting": false
          }
        }
      }
    },
    {
      "cell_type": "code",
      "source": [
        "from azure.ai.ml.entities import Data\n",
        "from azure.ai.ml.constants import AssetTypes\n",
        "\n",
        "my_data = Data(\n",
        "    path=\"../data/Day1-exercice5-Taxi/taxi-data.csv\",\n",
        "    type=AssetTypes.URI_FILE, # URI_FOLDER\n",
        "    description=\"Taxi dataset\",\n",
        "    name=\"taxi-data\"\n",
        ")\n",
        "ml_client.data.create_or_update(my_data)"
      ],
      "outputs": [
        {
          "output_type": "execute_result",
          "execution_count": 3,
          "data": {
            "text/plain": "Data({'skip_validation': False, 'mltable_schema_url': None, 'referenced_uris': None, 'type': 'uri_file', 'is_anonymous': False, 'auto_increment_version': False, 'name': 'taxi-data', 'description': 'Taxi dataset', 'tags': {}, 'properties': {}, 'id': '/subscriptions/66914bb5-9cb2-4f6d-a84d-8ff900446b22/resourceGroups/Learning/providers/Microsoft.MachineLearningServices/workspaces/test_learn/data/taxi-data/versions/4', 'Resource__source_path': None, 'base_path': '/mnt/batch/tasks/shared/LS_root/mounts/clusters/jcharley4/code/Users/jcharley/VBD_Day1/correction', 'creation_context': <azure.ai.ml.entities._system_data.SystemData object at 0x7ff20d45bf10>, 'serialize': <msrest.serialization.Serializer object at 0x7ff20d45bdc0>, 'version': '4', 'latest_version': None, 'path': 'azureml://subscriptions/66914bb5-9cb2-4f6d-a84d-8ff900446b22/resourcegroups/Learning/workspaces/test_learn/datastores/workspaceblobstore/paths/LocalUpload/2e56e9007690a9db90f90b8830ddcde4/taxi-data.csv', 'datastore': None})"
          },
          "metadata": {}
        }
      ],
      "execution_count": 3,
      "metadata": {
        "collapsed": false,
        "gather": {
          "logged": 1672327580872
        },
        "jupyter": {
          "outputs_hidden": false,
          "source_hidden": false
        },
        "nteract": {
          "transient": {
            "deleting": false
          }
        }
      }
    },
    {
      "cell_type": "markdown",
      "source": [
        "## Create a tabular dataset/data asset - MLTable format"
      ],
      "metadata": {
        "nteract": {
          "transient": {
            "deleting": false
          }
        }
      }
    },
    {
      "cell_type": "markdown",
      "source": [
        "## MLTable\r\n",
        "\r\n",
        "`MLTable` is a way to abstract the schema definition for tabular data so that it is easier for consumers of the data to materialize the table into a Pandas/Dask/Spark dataframe. [A more detailed explanation and motivation is provided on docs.microsoft.com.](https://docs.microsoft.com/azure/machine-learning/concept-data#mltable).\r\n",
        "\r\n",
        "The ideal scenarios to use `MLTable` are:\r\n",
        "\r\n",
        "- The schema of your data is complex and/or changes frequently.\r\n",
        "- You only need a subset of data (for example: a sample of rows or files, specific columns, etc).\r\n",
        "- AutoML jobs requiring tabular data.\r\n",
        "\r\n",
        "If your scenario does not fit the above then it is likely that URIs are a more suitable type.\r\n",
        "\r\n",
        "### The `MLTable` file\r\n",
        "\r\n",
        "The `MLTable` file defines the schema for tabular data. Below is a sample:"
      ],
      "metadata": {
        "nteract": {
          "transient": {
            "deleting": false
          }
        }
      }
    },
    {
      "cell_type": "markdown",
      "source": [],
      "metadata": {
        "nteract": {
          "transient": {
            "deleting": false
          }
        }
      }
    },
    {
      "cell_type": "code",
      "source": [
        "! cat ../data/Day1-exercice5-Taxi/MLTable"
      ],
      "outputs": [
        {
          "output_type": "stream",
          "name": "stdout",
          "text": "$schema: https://azuremlschemas.azureedge.net/latest/MLTable.schema.json \r\n\r\npaths:\r\n    - pattern: ./taxi-data.csv\r\n\r\ntransformations:\r\n  - read_delimited:\r\n      delimiter: \",\"\r\n      header: all_files_same_headers\r\n      encoding: utf8\r\n"
        }
      ],
      "execution_count": 4,
      "metadata": {
        "jupyter": {
          "source_hidden": false,
          "outputs_hidden": false
        },
        "nteract": {
          "transient": {
            "deleting": false
          }
        }
      }
    },
    {
      "cell_type": "code",
      "source": [
        "# ML table file - ML table target a folder\r\n",
        "import mltable\r\n",
        "\r\n",
        "tbl = mltable.load(uri=\"../data/Day1-exercice5-Taxi\")\r\n",
        "tbl.to_pandas_dataframe()"
      ],
      "outputs": [
        {
          "output_type": "execute_result",
          "execution_count": 5,
          "data": {
            "text/plain": "      Column1  cost  distance  dropoff_latitude  dropoff_longitude  \\\n0           0   4.5      0.83         40.694546         -73.976112   \n1           1   6.0      1.27         40.812149         -73.959755   \n2           2   9.5      1.80         40.678741         -73.980309   \n3           3   4.0      0.50         40.754715         -73.925499   \n4           4   6.0      0.90         40.669662         -73.911041   \n...       ...   ...       ...               ...                ...   \n9768     9768   9.0      1.39         40.757576         -73.974464   \n9769     9769   9.5      1.70         40.770500         -73.989861   \n9770     9770   6.5      1.40         40.739834         -73.985512   \n9771     9771   7.0      0.90         40.769672         -73.966759   \n9772     9772   7.0      1.32         40.755695         -73.968040   \n\n      passengers  pickup_latitude  pickup_longitude  store_forward  vendor  \\\n0              1        40.693836        -73.987267          False       2   \n1              1        40.801468        -73.948456          False       2   \n2              1        40.679798        -73.955444          False       2   \n3              1        40.760818        -73.922935          False       1   \n4              1        40.664940        -73.923042          False       1   \n...          ...              ...               ...            ...     ...   \n9768           1        40.755352        -73.985252          False       2   \n9769           1        40.755215        -73.981499          False       1   \n9770           1        40.724628        -73.987572          False       1   \n9771           1        40.766201        -73.952728          False       1   \n9772           1        40.766354        -73.983566          False       2   \n\n      ...  pickup_monthday  pickup_hour  pickup_minute  pickup_second  \\\n0     ...                3           21              2             35   \n1     ...               19           21             49             17   \n2     ...                5            9             46             18   \n3     ...                8           17             49             12   \n4     ...               29           10             28             21   \n...   ...              ...          ...            ...            ...   \n9768  ...               29           21             10             23   \n9769  ...                4           14             32             16   \n9770  ...               25            6              6             39   \n9771  ...               12           13             42             38   \n9772  ...                7           22             27             41   \n\n      dropoff_weekday  dropoff_month  dropoff_monthday  dropoff_hour  \\\n0                   6           True                 3            21   \n1                   1           True                19            21   \n2                   1           True                 5             9   \n3                   4           True                 8            17   \n4                   4           True                29            10   \n...               ...            ...               ...           ...   \n9768                4           True                29            21   \n9769                0           True                 4            14   \n9770                0           True                25             6   \n9771                1           True                12            13   \n9772                3           True                 7            22   \n\n      dropoff_minute  dropoff_second  \n0                  5              52  \n1                 54              37  \n2                 57              28  \n3                 52              20  \n4                 34              59  \n...              ...             ...  \n9768              22               1  \n9769              44              38  \n9770              12              10  \n9771              50              54  \n9772              34              39  \n\n[9773 rows x 22 columns]",
            "text/html": "<div>\n<style scoped>\n    .dataframe tbody tr th:only-of-type {\n        vertical-align: middle;\n    }\n\n    .dataframe tbody tr th {\n        vertical-align: top;\n    }\n\n    .dataframe thead th {\n        text-align: right;\n    }\n</style>\n<table border=\"1\" class=\"dataframe\">\n  <thead>\n    <tr style=\"text-align: right;\">\n      <th></th>\n      <th>Column1</th>\n      <th>cost</th>\n      <th>distance</th>\n      <th>dropoff_latitude</th>\n      <th>dropoff_longitude</th>\n      <th>passengers</th>\n      <th>pickup_latitude</th>\n      <th>pickup_longitude</th>\n      <th>store_forward</th>\n      <th>vendor</th>\n      <th>...</th>\n      <th>pickup_monthday</th>\n      <th>pickup_hour</th>\n      <th>pickup_minute</th>\n      <th>pickup_second</th>\n      <th>dropoff_weekday</th>\n      <th>dropoff_month</th>\n      <th>dropoff_monthday</th>\n      <th>dropoff_hour</th>\n      <th>dropoff_minute</th>\n      <th>dropoff_second</th>\n    </tr>\n  </thead>\n  <tbody>\n    <tr>\n      <th>0</th>\n      <td>0</td>\n      <td>4.5</td>\n      <td>0.83</td>\n      <td>40.694546</td>\n      <td>-73.976112</td>\n      <td>1</td>\n      <td>40.693836</td>\n      <td>-73.987267</td>\n      <td>False</td>\n      <td>2</td>\n      <td>...</td>\n      <td>3</td>\n      <td>21</td>\n      <td>2</td>\n      <td>35</td>\n      <td>6</td>\n      <td>True</td>\n      <td>3</td>\n      <td>21</td>\n      <td>5</td>\n      <td>52</td>\n    </tr>\n    <tr>\n      <th>1</th>\n      <td>1</td>\n      <td>6.0</td>\n      <td>1.27</td>\n      <td>40.812149</td>\n      <td>-73.959755</td>\n      <td>1</td>\n      <td>40.801468</td>\n      <td>-73.948456</td>\n      <td>False</td>\n      <td>2</td>\n      <td>...</td>\n      <td>19</td>\n      <td>21</td>\n      <td>49</td>\n      <td>17</td>\n      <td>1</td>\n      <td>True</td>\n      <td>19</td>\n      <td>21</td>\n      <td>54</td>\n      <td>37</td>\n    </tr>\n    <tr>\n      <th>2</th>\n      <td>2</td>\n      <td>9.5</td>\n      <td>1.80</td>\n      <td>40.678741</td>\n      <td>-73.980309</td>\n      <td>1</td>\n      <td>40.679798</td>\n      <td>-73.955444</td>\n      <td>False</td>\n      <td>2</td>\n      <td>...</td>\n      <td>5</td>\n      <td>9</td>\n      <td>46</td>\n      <td>18</td>\n      <td>1</td>\n      <td>True</td>\n      <td>5</td>\n      <td>9</td>\n      <td>57</td>\n      <td>28</td>\n    </tr>\n    <tr>\n      <th>3</th>\n      <td>3</td>\n      <td>4.0</td>\n      <td>0.50</td>\n      <td>40.754715</td>\n      <td>-73.925499</td>\n      <td>1</td>\n      <td>40.760818</td>\n      <td>-73.922935</td>\n      <td>False</td>\n      <td>1</td>\n      <td>...</td>\n      <td>8</td>\n      <td>17</td>\n      <td>49</td>\n      <td>12</td>\n      <td>4</td>\n      <td>True</td>\n      <td>8</td>\n      <td>17</td>\n      <td>52</td>\n      <td>20</td>\n    </tr>\n    <tr>\n      <th>4</th>\n      <td>4</td>\n      <td>6.0</td>\n      <td>0.90</td>\n      <td>40.669662</td>\n      <td>-73.911041</td>\n      <td>1</td>\n      <td>40.664940</td>\n      <td>-73.923042</td>\n      <td>False</td>\n      <td>1</td>\n      <td>...</td>\n      <td>29</td>\n      <td>10</td>\n      <td>28</td>\n      <td>21</td>\n      <td>4</td>\n      <td>True</td>\n      <td>29</td>\n      <td>10</td>\n      <td>34</td>\n      <td>59</td>\n    </tr>\n    <tr>\n      <th>...</th>\n      <td>...</td>\n      <td>...</td>\n      <td>...</td>\n      <td>...</td>\n      <td>...</td>\n      <td>...</td>\n      <td>...</td>\n      <td>...</td>\n      <td>...</td>\n      <td>...</td>\n      <td>...</td>\n      <td>...</td>\n      <td>...</td>\n      <td>...</td>\n      <td>...</td>\n      <td>...</td>\n      <td>...</td>\n      <td>...</td>\n      <td>...</td>\n      <td>...</td>\n      <td>...</td>\n    </tr>\n    <tr>\n      <th>9768</th>\n      <td>9768</td>\n      <td>9.0</td>\n      <td>1.39</td>\n      <td>40.757576</td>\n      <td>-73.974464</td>\n      <td>1</td>\n      <td>40.755352</td>\n      <td>-73.985252</td>\n      <td>False</td>\n      <td>2</td>\n      <td>...</td>\n      <td>29</td>\n      <td>21</td>\n      <td>10</td>\n      <td>23</td>\n      <td>4</td>\n      <td>True</td>\n      <td>29</td>\n      <td>21</td>\n      <td>22</td>\n      <td>1</td>\n    </tr>\n    <tr>\n      <th>9769</th>\n      <td>9769</td>\n      <td>9.5</td>\n      <td>1.70</td>\n      <td>40.770500</td>\n      <td>-73.989861</td>\n      <td>1</td>\n      <td>40.755215</td>\n      <td>-73.981499</td>\n      <td>False</td>\n      <td>1</td>\n      <td>...</td>\n      <td>4</td>\n      <td>14</td>\n      <td>32</td>\n      <td>16</td>\n      <td>0</td>\n      <td>True</td>\n      <td>4</td>\n      <td>14</td>\n      <td>44</td>\n      <td>38</td>\n    </tr>\n    <tr>\n      <th>9770</th>\n      <td>9770</td>\n      <td>6.5</td>\n      <td>1.40</td>\n      <td>40.739834</td>\n      <td>-73.985512</td>\n      <td>1</td>\n      <td>40.724628</td>\n      <td>-73.987572</td>\n      <td>False</td>\n      <td>1</td>\n      <td>...</td>\n      <td>25</td>\n      <td>6</td>\n      <td>6</td>\n      <td>39</td>\n      <td>0</td>\n      <td>True</td>\n      <td>25</td>\n      <td>6</td>\n      <td>12</td>\n      <td>10</td>\n    </tr>\n    <tr>\n      <th>9771</th>\n      <td>9771</td>\n      <td>7.0</td>\n      <td>0.90</td>\n      <td>40.769672</td>\n      <td>-73.966759</td>\n      <td>1</td>\n      <td>40.766201</td>\n      <td>-73.952728</td>\n      <td>False</td>\n      <td>1</td>\n      <td>...</td>\n      <td>12</td>\n      <td>13</td>\n      <td>42</td>\n      <td>38</td>\n      <td>1</td>\n      <td>True</td>\n      <td>12</td>\n      <td>13</td>\n      <td>50</td>\n      <td>54</td>\n    </tr>\n    <tr>\n      <th>9772</th>\n      <td>9772</td>\n      <td>7.0</td>\n      <td>1.32</td>\n      <td>40.755695</td>\n      <td>-73.968040</td>\n      <td>1</td>\n      <td>40.766354</td>\n      <td>-73.983566</td>\n      <td>False</td>\n      <td>2</td>\n      <td>...</td>\n      <td>7</td>\n      <td>22</td>\n      <td>27</td>\n      <td>41</td>\n      <td>3</td>\n      <td>True</td>\n      <td>7</td>\n      <td>22</td>\n      <td>34</td>\n      <td>39</td>\n    </tr>\n  </tbody>\n</table>\n<p>9773 rows × 22 columns</p>\n</div>"
          },
          "metadata": {}
        }
      ],
      "execution_count": 5,
      "metadata": {
        "jupyter": {
          "source_hidden": false,
          "outputs_hidden": false
        },
        "nteract": {
          "transient": {
            "deleting": false
          }
        },
        "gather": {
          "logged": 1672327582017
        }
      }
    },
    {
      "cell_type": "code",
      "source": [
        "from azure.ai.ml.entities import Data\r\n",
        "from azure.ai.ml.constants import AssetTypes\r\n",
        "\r\n",
        "# my_path must point to folder containing MLTable artifact (MLTable file + data\r\n",
        "# Supported paths include:\r\n",
        "# local: './<path>'\r\n",
        "# blob:  'https://<account_name>.blob.core.windows.net/<container_name>/<path>'\r\n",
        "# ADLS gen2: 'abfss://<file_system>@<account_name>.dfs.core.windows.net/<path>/'\r\n",
        "# Datastore: 'azureml://datastores/<data_store_name>/paths/<path>'\r\n",
        "\r\n",
        "my_data = Data(\r\n",
        "    path=\"../data/Day1-exercice5-Taxi/\",\r\n",
        "    type=AssetTypes.MLTABLE,\r\n",
        "    description=\"Taxi tabular dataset\",\r\n",
        "    name=\"taxi-mltable-data\",\r\n",
        ")\r\n",
        "\r\n",
        "ml_client.data.create_or_update(my_data)"
      ],
      "outputs": [
        {
          "output_type": "execute_result",
          "execution_count": 6,
          "data": {
            "text/plain": "Data({'skip_validation': False, 'mltable_schema_url': None, 'referenced_uris': ['./taxi-data.csv'], 'type': 'mltable', 'is_anonymous': False, 'auto_increment_version': False, 'name': 'taxi-mltable-data', 'description': 'Taxi tabular dataset', 'tags': {}, 'properties': {}, 'id': '/subscriptions/66914bb5-9cb2-4f6d-a84d-8ff900446b22/resourceGroups/Learning/providers/Microsoft.MachineLearningServices/workspaces/test_learn/data/taxi-mltable-data/versions/2', 'Resource__source_path': None, 'base_path': '/mnt/batch/tasks/shared/LS_root/mounts/clusters/jcharley4/code/Users/jcharley/VBD_Day1/correction', 'creation_context': <azure.ai.ml.entities._system_data.SystemData object at 0x7ff1e4c5c340>, 'serialize': <msrest.serialization.Serializer object at 0x7ff1e4c5c7f0>, 'version': '2', 'latest_version': None, 'path': 'azureml://subscriptions/66914bb5-9cb2-4f6d-a84d-8ff900446b22/resourcegroups/Learning/workspaces/test_learn/datastores/workspaceblobstore/paths/LocalUpload/1bbc5d0cd9365b9adf705e5fdfd7a159/Day1-exercice5-Taxi/', 'datastore': None})"
          },
          "metadata": {}
        }
      ],
      "execution_count": 6,
      "metadata": {
        "jupyter": {
          "source_hidden": false,
          "outputs_hidden": false
        },
        "nteract": {
          "transient": {
            "deleting": false
          }
        },
        "gather": {
          "logged": 1672327582947
        }
      }
    },
    {
      "cell_type": "markdown",
      "source": [
        "## 3. Register Train Environment\r\n",
        "\r\n",
        "Azure Machine Learning environments define the execution environments for your **jobs** or **deployments** and encapsulate the dependencies for your code. \r\n",
        "\r\n",
        "Azure ML uses the environment specification to create the Docker container that your **training** or **scoring code** runs in on the specified compute target.\r\n",
        "\r\n",
        "Create an environment from a\r\n",
        "* conda specification\r\n",
        "* Docker image\r\n",
        "* Docker build context\r\n",
        "\r\n",
        "There are two types of environments in Azure ML: **curated** and **custom environments**. Curated environments are predefined environments containing popular ML frameworks and tooling. Custom environments are user-defined.\r\n",
        "\r\n",
        "<hr>\r\n",
        "\r\n",
        "We can register an **environment** with cli v2 or sdk v2 using the following syntax:\r\n"
      ],
      "metadata": {
        "nteract": {
          "transient": {
            "deleting": false
          }
        }
      }
    },
    {
      "cell_type": "code",
      "source": [
        "from azure.ai.ml.entities import Environment\r\n",
        "\r\n",
        "my_environment = Environment(\r\n",
        "    image=\"azureml://registries/azureml/environments/AzureML-sklearn-0.24-ubuntu18.04-py37-cpu/versions/46\",\r\n",
        "    conda_file = \"./src-exercice6/environment/train-conda.yml\",\r\n",
        "    name=\"taxi-train-env\",\r\n",
        "    description=\"Environment created from a Docker image plus Conda environment to train taxi model.\",\r\n",
        ")\r\n",
        "\r\n",
        "ml_client.environments.create_or_update(my_environment)"
      ],
      "outputs": [],
      "execution_count": 12,
      "metadata": {
        "jupyter": {
          "source_hidden": false,
          "outputs_hidden": false
        },
        "nteract": {
          "transient": {
            "deleting": false
          }
        },
        "gather": {
          "logged": 1672392785158
        }
      }
    },
    {
      "cell_type": "markdown",
      "source": [
        "## 4. Simple job / pipeline one step"
      ],
      "metadata": {
        "nteract": {
          "transient": {
            "deleting": false
          }
        }
      }
    },
    {
      "cell_type": "code",
      "source": [
        "env = ml_client.environments.get(name=\"AzureML-minimal-ubuntu18.04-py37-cpu-inference\", version=\"45\")\r\n",
        "print(env)"
      ],
      "outputs": [
        {
          "output_type": "stream",
          "name": "stdout",
          "text": "Environment({'is_anonymous': False, 'auto_increment_version': False, 'name': 'AzureML-minimal-ubuntu18.04-py37-cpu-inference', 'description': 'A minimal environment for Inference, does not contain any framework and additional python packages.', 'tags': {'OS': 'Ubuntu18.04', 'Python': '3.7', 'Framework': 'None', 'Inference': ''}, 'properties': {}, 'id': '/subscriptions/66914bb5-9cb2-4f6d-a84d-8ff900446b22/resourceGroups/Learning/providers/Microsoft.MachineLearningServices/workspaces/test_learn/environments/AzureML-minimal-ubuntu18.04-py37-cpu-inference/versions/45', 'Resource__source_path': None, 'base_path': '/mnt/batch/tasks/shared/LS_root/mounts/clusters/jcharley4/code/Users/jcharley/VBD_Day1/correction', 'creation_context': <azure.ai.ml.entities._system_data.SystemData object at 0x7f29f1eb3a90>, 'serialize': <msrest.serialization.Serializer object at 0x7f29f0b6fd00>, 'version': '45', 'latest_version': None, 'conda_file': None, 'image': None, 'build': None, 'inference_config': None, 'os_type': 'Linux', 'arm_type': 'environment_version', 'conda_file_path': None, 'path': None, 'datastore': None, 'upload_hash': None, 'translated_conda_file': None})\n"
        }
      ],
      "execution_count": 7,
      "metadata": {
        "jupyter": {
          "source_hidden": false,
          "outputs_hidden": false
        },
        "nteract": {
          "transient": {
            "deleting": false
          }
        },
        "gather": {
          "logged": 1672391555485
        }
      }
    },
    {
      "cell_type": "code",
      "source": [
        "from azure.ai.ml import command, Input\r\n",
        "\r\n",
        "\r\n",
        "# create the command\r\n",
        "job = command(\r\n",
        "    code=\"./src-exercice6\",  # local path where the code is stored\r\n",
        "    command=\"python main.py --diabetes-csv ${{inputs.taxi}}\",\r\n",
        "    inputs={\r\n",
        "        \"taxi\": Input(\r\n",
        "            type=\"uri_file\",\r\n",
        "            path=\"azureml:taxi-data:4\",\r\n",
        "        )\r\n",
        "    },\r\n",
        "    environment=\"AzureML-minimal-ubuntu18.04-py37-cpu-inference@latest\",\r\n",
        "    compute='cpu-cluster-CA',\r\n",
        "    display_name=\"taxi-singlejob-example\",\r\n",
        "    # description,\r\n",
        "    # experiment_name\r\n",
        ")\r\n",
        "\r\n",
        "# submit the command\r\n",
        "returned_job = ml_client.create_or_update(job)"
      ],
      "outputs": [],
      "execution_count": 9,
      "metadata": {
        "jupyter": {
          "source_hidden": false,
          "outputs_hidden": false
        },
        "nteract": {
          "transient": {
            "deleting": false
          }
        },
        "gather": {
          "logged": 1672391758387
        }
      }
    },
    {
      "cell_type": "code",
      "source": [],
      "outputs": [],
      "execution_count": null,
      "metadata": {
        "jupyter": {
          "source_hidden": false,
          "outputs_hidden": false
        },
        "nteract": {
          "transient": {
            "deleting": false
          }
        }
      }
    },
    {
      "cell_type": "code",
      "source": [],
      "outputs": [],
      "execution_count": null,
      "metadata": {
        "jupyter": {
          "source_hidden": false,
          "outputs_hidden": false
        },
        "nteract": {
          "transient": {
            "deleting": false
          }
        }
      }
    }
  ],
  "metadata": {
    "kernel_info": {
      "name": "python38-azureml"
    },
    "kernelspec": {
      "name": "python38-azureml",
      "language": "python",
      "display_name": "Python 3.8 - AzureML"
    },
    "language_info": {
      "name": "python",
      "version": "3.8.5",
      "mimetype": "text/x-python",
      "codemirror_mode": {
        "name": "ipython",
        "version": 3
      },
      "pygments_lexer": "ipython3",
      "nbconvert_exporter": "python",
      "file_extension": ".py"
    },
    "microsoft": {
      "host": {
        "AzureML": {
          "notebookHasBeenCompleted": true
        }
      }
    },
    "nteract": {
      "version": "nteract-front-end@1.0.0"
    }
  },
  "nbformat": 4,
  "nbformat_minor": 4
}