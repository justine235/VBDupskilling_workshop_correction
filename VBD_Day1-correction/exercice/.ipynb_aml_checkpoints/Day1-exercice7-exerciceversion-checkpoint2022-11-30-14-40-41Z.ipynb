{
  "cells": [
    {
      "cell_type": "markdown",
      "source": [
        "For this workshop, you need:\n",
        "\n",
        "* An Azure Machine Learning workspace. \n",
        "* The Azure Machine Learning Python SDK v2 installed. \n",
        "\n",
        "To install the SDK you can either,\n",
        "\n",
        "Create a compute instance, which already has installed the latest AzureML Python SDK and is pre-configured for ML workflows.\n",
        "\n",
        "Use the followings commands to install Azure ML Python SDK v2:\n",
        "\n",
        "```bash\n",
        "conda activate <virtual_env_name>\n",
        "pip install azure-ai-ml==1.0.0\n",
        "```\n",
        "\n",
        "If you're using a virtual env, make sure to install the sdk inside the virtual env.\n",
        "\n",
        "The virtual environment for sdkv2 on Azure Notebooks is called `azureml_py310_sdkv2`.\n"
      ],
      "metadata": {}
    },
    {
      "cell_type": "markdown",
      "source": [
        "## Connect to ML Client"
      ],
      "metadata": {
        "nteract": {
          "transient": {
            "deleting": false
          }
        },
        "tags": []
      }
    },
    {
      "cell_type": "markdown",
      "source": [
        "To connect to a workspace, you need to provide a subscription, resource group and workspace name. These details are used in the `MLClient` from `azure.ai.ml` to get a handle to the required Azure Machine Learning workspace.\n",
        "\n",
        "In the following example, the default Azure authentication is used along with the default workspace configuration or from any `config.json` file you might have copied into the folders structure. If no `config.json` is found, then you need to manually introduce the subscription_id, resource_group and workspace when creating `MLClient`.\n",
        "\n",
        "```python\n",
        "from azure.identity import DefaultAzureCredential\n",
        "from azure.ai.ml import MLClient\n",
        "\n",
        "credential = DefaultAzureCredential()\n",
        "ml_client = None\n",
        "try:\n",
        "    ml_client = MLClient.from_config(credential)\n",
        "except Exception as ex:\n",
        "    print(ex)\n",
        "    # Enter details of your AzureML workspace\n",
        "    subscription_id = \"<SUBSCRIPTION_ID>\"\n",
        "    resource_group = \"<RESOURCE_GROUP>\"\n",
        "    workspace = \"<AZUREML_WORKSPACE_NAME>\"\n",
        "    ml_client = MLClient(credential, subscription_id, resource_group, workspace)\n",
        "```\n"
      ],
      "metadata": {}
    },
    {
      "cell_type": "code",
      "source": [
        "from azure.identity import DefaultAzureCredential, InteractiveBrowserCredential\n",
        "from azure.ai.ml import MLClient\n",
        "\n",
        "try:\n",
        "    credential = DefaultAzureCredential()\n",
        "    # Check if given credential can get token successfully.\n",
        "    credential.get_token(\"https://management.azure.com/.default\")\n",
        "except Exception as ex:\n",
        "    # Fall back to InteractiveBrowserCredential in case DefaultAzureCredential not work\n",
        "    credential = InteractiveBrowserCredential()\n",
        "\n",
        "# Add config.json file to the workspace\n",
        "# Get a handle to workspace\n",
        "ml_client = MLClient.from_config(credential=credential, path=\"config.json\")"
      ],
      "outputs": [
        {
          "output_type": "stream",
          "name": "stderr",
          "text": "Found the config file in: /mnt/batch/tasks/shared/LS_root/mounts/clusters/jcharley4/code/Users/jcharley/config.json\n"
        }
      ],
      "execution_count": 1,
      "metadata": {
        "collapsed": false,
        "gather": {
          "logged": 1672394596196
        },
        "jupyter": {
          "outputs_hidden": false,
          "source_hidden": false
        },
        "nteract": {
          "transient": {
            "deleting": false
          }
        }
      }
    },
    {
      "cell_type": "markdown",
      "source": [
        "# Model Training"
      ],
      "metadata": {
        "nteract": {
          "transient": {
            "deleting": false
          }
        },
        "tags": []
      }
    },
    {
      "cell_type": "markdown",
      "source": [
        "## 1. Create Managed Compute\n",
        "\n",
        "A compute is a designated compute resource where you run your job or host your endpoint. Azure Machine learning supports the following types of compute:\n",
        "\n",
        "- **Compute instance** - a fully configured and managed development environment in the cloud. You can use the instance as a training or inference compute for development and testing. It's similar to a virtual machine on the cloud.\n",
        "\n",
        "- **Compute cluster** - a managed-compute infrastructure that allows you to easily create a cluster of CPU or GPU compute nodes in the cloud.\n",
        "\n",
        "- **Inference cluster** - used to deploy trained machine learning models to Azure Kubernetes Service. You can create an Azure Kubernetes Service (AKS) cluster from your Azure ML workspace, or attach an existing AKS cluster.\n",
        "\n",
        "- **Attached compute** - You can attach your own compute resources to your workspace and use them for training and inference.\n",
        "\n",
        "You can create a compute using the Studio, the cli and the sdk.\n",
        "\n",
        "<hr>"
      ],
      "metadata": {
        "nteract": {
          "transient": {
            "deleting": false
          }
        }
      }
    },
    {
      "cell_type": "code",
      "source": [
        "from azure.ai.ml.entities import AmlCompute\n",
        "\n",
        "my_cluster = AmlCompute(\n",
        "    name=\"cpu-cluster-CA\",\n",
        "    type=\"amlcompute\", \n",
        "    size=\"STANDARD_DS3_V2\", \n",
        "    min_instances=0, \n",
        "    max_instances=2,\n",
        "    location=\"westeurope\", \t\n",
        ")\n",
        "\n",
        "ml_client.compute.begin_create_or_update(my_cluster)\n"
      ],
      "outputs": [
        {
          "output_type": "execute_result",
          "execution_count": 2,
          "data": {
            "text/plain": "<azure.core.polling._poller.LROPoller at 0x7f2778116a60>"
          },
          "metadata": {}
        }
      ],
      "execution_count": 2,
      "metadata": {
        "collapsed": false,
        "gather": {
          "logged": 1672394597979
        },
        "jupyter": {
          "outputs_hidden": false,
          "source_hidden": false
        },
        "nteract": {
          "transient": {
            "deleting": false
          }
        }
      }
    },
    {
      "cell_type": "markdown",
      "source": [
        "## 2. Register File Data Asset\n",
        "\n",
        "**Datastore** - Azure Machine Learning Datastores securely keep the connection information to your data storage on Azure, so you don't have to code it in your scripts.\n",
        "\n",
        "An Azure Machine Learning datastore is a **reference** to an **existing** storage account on Azure. The benefits of creating and using a datastore are:\n",
        "* A common and easy-to-use API to interact with different storage type. \n",
        "* Easier to discover useful datastores when working as a team.\n",
        "* When using credential-based access (service principal/SAS/key), the connection information is secured so you don't have to code it in your scripts.\n",
        "\n",
        "Supported Data Resources: \n",
        "\n",
        "* Azure Storage blob container\n",
        "* Azure Storage file share\n",
        "* Azure Data Lake Gen 1\n",
        "* Azure Data Lake Gen 2\n",
        "* Azure SQL Database \n",
        "* Azure PostgreSQL Database\n",
        "* Azure MySQL Database\n",
        "\n",
        "It is not a requirement to use Azure Machine Learning datastores - you can use storage URIs directly assuming you have access to the underlying data.\n",
        "\n",
        "You can create a datastore using the Studio, the cli and the sdk.\n",
        "\n",
        "<hr>\n",
        "\n",
        "\n",
        "\n",
        "**Data asset** - Create data assets in your workspace to share with team members, version, and track data lineage.\n",
        "\n",
        "By creating a data asset, you create a reference to the data source location, along with a copy of its metadata. \n",
        "\n",
        "The benefits of creating data assets are:\n",
        "\n",
        "* You can **share and reuse data** with other members of the team such that they do not need to remember file locations.\n",
        "* You can **seamlessly access data** during model training (on any supported compute type) without worrying about connection strings or data paths.\n",
        "* You can **version** the data.\n",
        "\n",
        "<hr>\n"
      ],
      "metadata": {
        "nteract": {
          "transient": {
            "deleting": false
          }
        }
      }
    },
    {
      "cell_type": "code",
      "source": [
        "from azure.ai.ml.entities import Data\n",
        "from azure.ai.ml.constants import AssetTypes\n",
        "\n",
        "my_data = Data(\n",
        "    path=\"../data/Day1-exercice5-Taxi/taxi-data.csv\",\n",
        "    type=AssetTypes.URI_FILE, # URI_FOLDER\n",
        "    description=\"Taxi dataset\",\n",
        "    name=\"taxi-data\"\n",
        ")\n",
        "ml_client.data.create_or_update(my_data)"
      ],
      "outputs": [
        {
          "output_type": "execute_result",
          "execution_count": 3,
          "data": {
            "text/plain": "Data({'skip_validation': False, 'mltable_schema_url': None, 'referenced_uris': None, 'type': 'uri_file', 'is_anonymous': False, 'auto_increment_version': False, 'name': 'taxi-data', 'description': 'Taxi dataset', 'tags': {}, 'properties': {}, 'id': '/subscriptions/66914bb5-9cb2-4f6d-a84d-8ff900446b22/resourceGroups/Learning/providers/Microsoft.MachineLearningServices/workspaces/test_learn/data/taxi-data/versions/5', 'Resource__source_path': None, 'base_path': '/mnt/batch/tasks/shared/LS_root/mounts/clusters/jcharley4/code/Users/jcharley/VBD_Day1/correction', 'creation_context': <azure.ai.ml.entities._system_data.SystemData object at 0x7f27780a4e80>, 'serialize': <msrest.serialization.Serializer object at 0x7f27780a4f70>, 'version': '5', 'latest_version': None, 'path': 'azureml://subscriptions/66914bb5-9cb2-4f6d-a84d-8ff900446b22/resourcegroups/Learning/workspaces/test_learn/datastores/workspaceblobstore/paths/LocalUpload/2e56e9007690a9db90f90b8830ddcde4/taxi-data.csv', 'datastore': None})"
          },
          "metadata": {}
        }
      ],
      "execution_count": 3,
      "metadata": {
        "collapsed": false,
        "gather": {
          "logged": 1672394601160
        },
        "jupyter": {
          "outputs_hidden": false,
          "source_hidden": false
        },
        "nteract": {
          "transient": {
            "deleting": false
          }
        }
      }
    },
    {
      "cell_type": "markdown",
      "source": [
        "## 3. Register Train Environment\r\n",
        "\r\n",
        "Azure Machine Learning environments define the execution environments for your **jobs** or **deployments** and encapsulate the dependencies for your code. \r\n",
        "\r\n",
        "Azure ML uses the environment specification to create the Docker container that your **training** or **scoring code** runs in on the specified compute target.\r\n",
        "\r\n",
        "Create an environment from a\r\n",
        "* conda specification\r\n",
        "* Docker image\r\n",
        "* Docker build context\r\n",
        "\r\n",
        "There are two types of environments in Azure ML: **curated** and **custom environments**. Curated environments are predefined environments containing popular ML frameworks and tooling. Custom environments are user-defined.\r\n",
        "\r\n",
        "<hr>\r\n",
        "\r\n",
        "We can register an **environment** with cli v2 or sdk v2 using the following syntax:\r\n"
      ],
      "metadata": {
        "nteract": {
          "transient": {
            "deleting": false
          }
        }
      }
    },
    {
      "cell_type": "code",
      "source": [
        "from azure.ai.ml.entities import Environment\r\n",
        "\r\n",
        "my_environment = Environment(\r\n",
        "    image=\"mcr.microsoft.com/azureml/openmpi3.1.2-ubuntu18.04\",\r\n",
        "    conda_file=\"./src-exercice6/environment/train-conda.yml\",\r\n",
        "    name=\"taxi-train-env\",\r\n",
        "    description=\"Environment created from a Docker image plus Conda environment to train taxi model.\",\r\n",
        ")\r\n",
        "\r\n",
        "ml_client.environments.create_or_update(my_environment)"
      ],
      "outputs": [
        {
          "output_type": "execute_result",
          "execution_count": 7,
          "data": {
            "text/plain": "Environment({'is_anonymous': False, 'auto_increment_version': False, 'name': 'taxi-train-env', 'description': 'Environment created from a Docker image plus Conda environment to train taxi model.', 'tags': {}, 'properties': {}, 'id': '/subscriptions/66914bb5-9cb2-4f6d-a84d-8ff900446b22/resourceGroups/Learning/providers/Microsoft.MachineLearningServices/workspaces/test_learn/environments/taxi-train-env/versions/13', 'Resource__source_path': None, 'base_path': '/mnt/batch/tasks/shared/LS_root/mounts/clusters/jcharley4/code/Users/jcharley/VBD_Day1/correction', 'creation_context': <azure.ai.ml.entities._system_data.SystemData object at 0x7f2753184d90>, 'serialize': <msrest.serialization.Serializer object at 0x7f27705fdb20>, 'version': '13', 'latest_version': None, 'conda_file': {'channels': ['defaults', 'anaconda', 'conda-forge'], 'dependencies': ['python=3.7.5', 'pip', {'pip': ['azureml-mlflow==1.38.0', 'azure-ai-ml==1.0.0', 'pyarrow==10.0.0', 'ruamel.yaml==0.17.21', 'scikit-learn==0.24.1', 'pandas==1.2.1', 'joblib==1.0.0', 'matplotlib==3.3.3']}]}, 'image': 'mcr.microsoft.com/azureml/openmpi3.1.2-ubuntu18.04', 'build': None, 'inference_config': None, 'os_type': 'Linux', 'arm_type': 'environment_version', 'conda_file_path': None, 'path': None, 'datastore': None, 'upload_hash': None, 'translated_conda_file': '{\\n  \"channels\": [\\n    \"defaults\",\\n    \"anaconda\",\\n    \"conda-forge\"\\n  ],\\n  \"dependencies\": [\\n    \"python=3.7.5\",\\n    \"pip\",\\n    {\\n      \"pip\": [\\n        \"azureml-mlflow==1.38.0\",\\n        \"azure-ai-ml==1.0.0\",\\n        \"pyarrow==10.0.0\",\\n        \"ruamel.yaml==0.17.21\",\\n        \"scikit-learn==0.24.1\",\\n        \"pandas==1.2.1\",\\n        \"joblib==1.0.0\",\\n        \"matplotlib==3.3.3\"\\n      ]\\n    }\\n  ]\\n}'})"
          },
          "metadata": {}
        }
      ],
      "execution_count": 7,
      "metadata": {
        "jupyter": {
          "source_hidden": false,
          "outputs_hidden": false
        },
        "nteract": {
          "transient": {
            "deleting": false
          }
        },
        "gather": {
          "logged": 1672394612418
        }
      }
    },
    {
      "cell_type": "markdown",
      "source": [
        "## BUILD PIPELINE"
      ],
      "metadata": {
        "nteract": {
          "transient": {
            "deleting": false
          }
        }
      }
    },
    {
      "cell_type": "code",
      "source": [
        "from azure.ai.ml.dsl import pipeline\r\n",
        "from azure.ai.ml import Input, Output, load_component\r\n",
        "from azure.ai.ml.constants import AssetTypes, InputOutputModes\r\n",
        "\r\n",
        "# Create pipeline job\r\n",
        "parent_dir = \"./src-exercice7/components\"\r\n",
        "\r\n",
        "# 1. Load components\r\n",
        "prepare_data = load_component(source=parent_dir + \"/prep.yml\")\r\n",
        "train_model = load_component(source=parent_dir + \"/train.yml\")\r\n",
        "evaluate_model = load_component(source=parent_dir #******GAP1 *******)\r\n",
        "register_model = load_component(source=parent_dir + #******GAP2 *******)\r\n",
        "\r\n",
        "# 2. Construct pipeline\r\n",
        "@pipeline()\r\n",
        "def taxi_training_pipeline(raw_data, enable_monitoring, table_name):\r\n",
        "    \r\n",
        "    prepare = prepare_data(\r\n",
        "        raw_data=raw_data,\r\n",
        "        enable_monitoring=enable_monitoring, \r\n",
        "        table_name=table_name\r\n",
        "    )\r\n",
        "\r\n",
        "    train = train_model(\r\n",
        "        train_data=prepare.outputs.train_data\r\n",
        "    )\r\n",
        "\r\n",
        "    evaluate = evaluate_model(\r\n",
        "        model_name=\"taxi-model\",\r\n",
        "        model_input=train.outputs.model_output,\r\n",
        "        test_data=#******GAP3 *******\r\n",
        "    )\r\n",
        "\r\n",
        "\r\n",
        "    register = register_model(\r\n",
        "        model_name=\"taxi-model\",\r\n",
        "        model_path=#******GAP4 *******,\r\n",
        "        evaluation_output=evaluate.outputs.evaluation_output\r\n",
        "    )\r\n",
        "\r\n",
        "    return {\r\n",
        "        \"pipeline_job_train_data\": prepare.outputs.train_data,\r\n",
        "        \"pipeline_job_test_data\": prepare.outputs.test_data,\r\n",
        "        \"pipeline_job_trained_model\": train.outputs.model_output,\r\n",
        "        \"pipeline_job_score_report\": evaluate.outputs.evaluation_output,\r\n",
        "    }\r\n",
        "\r\n",
        "\r\n",
        "pipeline_job = taxi_training_pipeline(\r\n",
        "    Input(type=AssetTypes.URI_FILE, path=\"taxi-data@latest\"), \"false\", \"taximonitoring\"\r\n",
        ")\r\n",
        "\r\n",
        "# set pipeline level compute\r\n",
        "pipeline_job.settings.default_compute = #******GAP5 *******\r\n",
        "# set pipeline level datastore\r\n",
        "pipeline_job.settings.default_datastore = \"workspaceblobstore\""
      ],
      "outputs": [],
      "execution_count": 16,
      "metadata": {
        "jupyter": {
          "source_hidden": false,
          "outputs_hidden": false
        },
        "nteract": {
          "transient": {
            "deleting": false
          }
        },
        "gather": {
          "logged": 1672395864976
        }
      }
    },
    {
      "cell_type": "code",
      "source": [
        "pipeline_job = ml_client.jobs.create_or_update(\r\n",
        "    pipeline_job, experiment_name=#******GAP6 *******\r\n",
        ")\r\n",
        "pipeline_job"
      ],
      "outputs": [
        {
          "output_type": "stream",
          "name": "stderr",
          "text": "\u001b[32mUploading prep (0.01 MBs): 100%|██████████| 10020/10020 [00:00<00:00, 258277.57it/s]\n\u001b[39m\n\n\u001b[32mUploading evaluate (0.01 MBs): 100%|██████████| 12731/12731 [00:00<00:00, 320924.62it/s]\n\u001b[39m\n\n"
        },
        {
          "output_type": "execute_result",
          "execution_count": 17,
          "data": {
            "text/plain": "PipelineJob({'inputs': {'raw_data': <azure.ai.ml.entities._job.pipeline._io.base.PipelineInput object at 0x7f2748f53b20>, 'enable_monitoring': <azure.ai.ml.entities._job.pipeline._io.base.PipelineInput object at 0x7f2748f535b0>, 'table_name': <azure.ai.ml.entities._job.pipeline._io.base.PipelineInput object at 0x7f2748f53610>}, 'outputs': {'pipeline_job_train_data': <azure.ai.ml.entities._job.pipeline._io.base.PipelineOutput object at 0x7f2748f53490>, 'pipeline_job_test_data': <azure.ai.ml.entities._job.pipeline._io.base.PipelineOutput object at 0x7f2748f53be0>, 'pipeline_job_trained_model': <azure.ai.ml.entities._job.pipeline._io.base.PipelineOutput object at 0x7f2748f53880>, 'pipeline_job_score_report': <azure.ai.ml.entities._job.pipeline._io.base.PipelineOutput object at 0x7f2748f53f10>}, 'jobs': {}, 'component': PipelineComponent({'auto_increment_version': False, 'source': 'REMOTE.WORKSPACE.JOB', 'is_anonymous': True, 'name': 'azureml_anonymous', 'description': None, 'tags': {}, 'properties': {}, 'id': None, 'Resource__source_path': None, 'base_path': None, 'creation_context': None, 'serialize': <msrest.serialization.Serializer object at 0x7f2748ef22b0>, 'version': '1', 'latest_version': None, 'schema': None, 'type': 'pipeline', 'display_name': 'taxi_training_pipeline', 'is_deterministic': None, 'inputs': {'raw_data': {}, 'enable_monitoring': {}, 'table_name': {}}, 'outputs': {'pipeline_job_train_data': {}, 'pipeline_job_test_data': {}, 'pipeline_job_trained_model': {}, 'pipeline_job_score_report': {}}, 'yaml_str': None, 'other_parameter': {}, 'jobs': {'prepare': Command({'parameters': {}, 'init': False, 'type': 'command', 'status': None, 'log_files': None, 'name': 'prepare', 'description': None, 'tags': {}, 'properties': {}, 'id': None, 'Resource__source_path': None, 'base_path': None, 'creation_context': None, 'serialize': <msrest.serialization.Serializer object at 0x7f2748f950a0>, 'allowed_keys': {}, 'key_restriction': False, 'logger': <Logger attr_dict (WARNING)>, 'display_name': None, 'experiment_name': None, 'compute': None, 'services': None, 'comment': None, 'job_inputs': {'raw_data': '${{parent.inputs.raw_data}}', 'enable_monitoring': '${{parent.inputs.enable_monitoring}}', 'table_name': '${{parent.inputs.table_name}}'}, 'job_outputs': {'train_data': '${{parent.outputs.pipeline_job_train_data}}', 'test_data': '${{parent.outputs.pipeline_job_test_data}}'}, 'inputs': {'raw_data': <azure.ai.ml.entities._job.pipeline._io.base.NodeInput object at 0x7f2748edee20>, 'enable_monitoring': <azure.ai.ml.entities._job.pipeline._io.base.NodeInput object at 0x7f2748ede2b0>, 'table_name': <azure.ai.ml.entities._job.pipeline._io.base.NodeInput object at 0x7f2748edea90>}, 'outputs': {'train_data': <azure.ai.ml.entities._job.pipeline._io.base.NodeOutput object at 0x7f2748edefd0>, 'test_data': <azure.ai.ml.entities._job.pipeline._io.base.NodeOutput object at 0x7f2748ef2d60>}, 'component': 'azureml_anonymous:23f9954b-58ed-455d-a6c3-e16707d6f31d', 'referenced_control_flow_node_instance_id': None, 'kwargs': {'services': None}, 'instance_id': '05c8c82f-9d07-4dbf-b08f-64d6f95e92f0', 'source': 'REMOTE.WORKSPACE.COMPONENT', 'limits': None, 'identity': None, 'distribution': None, 'environment_variables': {}, 'environment': None, 'resources': None, 'swept': False}), 'train': Command({'parameters': {}, 'init': False, 'type': 'command', 'status': None, 'log_files': None, 'name': 'train', 'description': None, 'tags': {}, 'properties': {}, 'id': None, 'Resource__source_path': None, 'base_path': None, 'creation_context': None, 'serialize': <msrest.serialization.Serializer object at 0x7f2748ede760>, 'allowed_keys': {}, 'key_restriction': False, 'logger': <Logger attr_dict (WARNING)>, 'display_name': None, 'experiment_name': None, 'compute': None, 'services': None, 'comment': None, 'job_inputs': {'train_data': '${{parent.jobs.prepare.outputs.train_data}}'}, 'job_outputs': {'model_output': '${{parent.outputs.pipeline_job_trained_model}}'}, 'inputs': {'train_data': <azure.ai.ml.entities._job.pipeline._io.base.NodeInput object at 0x7f2748ef2850>}, 'outputs': {'model_output': <azure.ai.ml.entities._job.pipeline._io.base.NodeOutput object at 0x7f2748ef2040>}, 'component': 'azureml_anonymous:1d7c6e27-a019-4998-a518-ea10ae593a37', 'referenced_control_flow_node_instance_id': None, 'kwargs': {'services': None}, 'instance_id': '7c9be990-6e5c-4b44-9058-8f7d92153e4f', 'source': 'REMOTE.WORKSPACE.COMPONENT', 'limits': None, 'identity': None, 'distribution': None, 'environment_variables': {}, 'environment': None, 'resources': None, 'swept': False}), 'evaluate': Command({'parameters': {}, 'init': False, 'type': 'command', 'status': None, 'log_files': None, 'name': 'evaluate', 'description': None, 'tags': {}, 'properties': {}, 'id': None, 'Resource__source_path': None, 'base_path': None, 'creation_context': None, 'serialize': <msrest.serialization.Serializer object at 0x7f2748ef2790>, 'allowed_keys': {}, 'key_restriction': False, 'logger': <Logger attr_dict (WARNING)>, 'display_name': None, 'experiment_name': None, 'compute': None, 'services': None, 'comment': None, 'job_inputs': {'model_name': 'taxi-model', 'model_input': '${{parent.jobs.train.outputs.model_output}}', 'test_data': '${{parent.jobs.prepare.outputs.test_data}}'}, 'job_outputs': {'evaluation_output': '${{parent.outputs.pipeline_job_score_report}}'}, 'inputs': {'model_name': <azure.ai.ml.entities._job.pipeline._io.base.NodeInput object at 0x7f2748ef2f40>, 'model_input': <azure.ai.ml.entities._job.pipeline._io.base.NodeInput object at 0x7f2748ef2fd0>, 'test_data': <azure.ai.ml.entities._job.pipeline._io.base.NodeInput object at 0x7f2748ef21c0>}, 'outputs': {'evaluation_output': <azure.ai.ml.entities._job.pipeline._io.base.NodeOutput object at 0x7f2748ef29d0>}, 'component': 'azureml_anonymous:95ca926f-a8f2-4e83-b849-a2172c031ca0', 'referenced_control_flow_node_instance_id': None, 'kwargs': {'services': None}, 'instance_id': 'f631a15d-ed03-49de-9401-d337d4511d47', 'source': 'REMOTE.WORKSPACE.COMPONENT', 'limits': None, 'identity': None, 'distribution': None, 'environment_variables': {}, 'environment': None, 'resources': None, 'swept': False}), 'register': Command({'parameters': {}, 'init': False, 'type': 'command', 'status': None, 'log_files': None, 'name': 'register', 'description': None, 'tags': {}, 'properties': {}, 'id': None, 'Resource__source_path': None, 'base_path': None, 'creation_context': None, 'serialize': <msrest.serialization.Serializer object at 0x7f2748ef28e0>, 'allowed_keys': {}, 'key_restriction': False, 'logger': <Logger attr_dict (WARNING)>, 'display_name': None, 'experiment_name': None, 'compute': None, 'services': None, 'comment': None, 'job_inputs': {'model_name': 'taxi-model', 'model_path': '${{parent.jobs.train.outputs.model_output}}', 'evaluation_output': '${{parent.jobs.evaluate.outputs.evaluation_output}}'}, 'job_outputs': {}, 'inputs': {'model_name': <azure.ai.ml.entities._job.pipeline._io.base.NodeInput object at 0x7f2748ef2d90>, 'model_path': <azure.ai.ml.entities._job.pipeline._io.base.NodeInput object at 0x7f2748ef2c10>, 'evaluation_output': <azure.ai.ml.entities._job.pipeline._io.base.NodeInput object at 0x7f2748ef2a30>}, 'outputs': {}, 'component': 'azureml_anonymous:19b90f22-a25c-4332-bb94-3f5941ffe96b', 'referenced_control_flow_node_instance_id': None, 'kwargs': {'services': None}, 'instance_id': '805ae737-4490-4ee7-aeaf-26004a1a4cf4', 'source': 'REMOTE.WORKSPACE.COMPONENT', 'limits': None, 'identity': None, 'distribution': None, 'environment_variables': {}, 'environment': None, 'resources': None, 'swept': False})}, 'job_types': {'command': 4}, 'job_sources': {'REMOTE.WORKSPACE.COMPONENT': 4}, 'source_job_id': None}), 'type': 'pipeline', 'status': 'Preparing', 'log_files': None, 'name': 'dreamy_stamp_4b0mzjr1mc', 'description': None, 'tags': {}, 'properties': {'azureml.DevPlatv2': 'true', 'azureml.runsource': 'azureml.PipelineRun', 'runSource': 'MFE', 'runType': 'HTTP', 'azureml.parameters': '{\"enable_monitoring\":\"false\",\"table_name\":\"taximonitoring\"}', 'azureml.continue_on_step_failure': 'False', 'azureml.continue_on_failed_optional_input': 'True', 'azureml.defaultComputeName': 'cpu-cluster-CA', 'azureml.defaultDataStoreName': 'workspaceblobstore', 'azureml.pipelineComponent': 'pipelinerun'}, 'id': '/subscriptions/66914bb5-9cb2-4f6d-a84d-8ff900446b22/resourceGroups/Learning/providers/Microsoft.MachineLearningServices/workspaces/test_learn/jobs/dreamy_stamp_4b0mzjr1mc', 'Resource__source_path': None, 'base_path': '/mnt/batch/tasks/shared/LS_root/mounts/clusters/jcharley4/code/Users/jcharley/VBD_Day1/correction', 'creation_context': <azure.ai.ml.entities._system_data.SystemData object at 0x7f2748ef2b50>, 'serialize': <msrest.serialization.Serializer object at 0x7f2748f53f40>, 'display_name': 'taxi_training_pipeline', 'experiment_name': 'Training-sdkV2', 'compute': None, 'services': {'Tracking': <azure.ai.ml._restclient.v2022_10_01_preview.models._models_py3.JobService object at 0x7f2748ef2c40>, 'Studio': <azure.ai.ml._restclient.v2022_10_01_preview.models._models_py3.JobService object at 0x7f2748ef2eb0>}, 'settings': {}, 'identity': None, 'default_code': None, 'default_environment': None})",
            "text/html": "<table style=\"width:100%\"><tr><th>Experiment</th><th>Name</th><th>Type</th><th>Status</th><th>Details Page</th></tr><tr><td>Training-sdkV2</td><td>dreamy_stamp_4b0mzjr1mc</td><td>pipeline</td><td>Preparing</td><td><a href=\"https://ml.azure.com/runs/dreamy_stamp_4b0mzjr1mc?wsid=/subscriptions/66914bb5-9cb2-4f6d-a84d-8ff900446b22/resourcegroups/Learning/workspaces/test_learn&amp;tid=16b3c013-d300-468d-ac64-7eda0820b6d3\" target=\"_blank\" rel=\"noopener\">Link to Azure Machine Learning studio</a></td></tr></table>"
          },
          "metadata": {}
        }
      ],
      "execution_count": 17,
      "metadata": {
        "jupyter": {
          "source_hidden": false,
          "outputs_hidden": false
        },
        "nteract": {
          "transient": {
            "deleting": false
          }
        },
        "gather": {
          "logged": 1672395955134
        }
      }
    }
  ],
  "metadata": {
    "kernel_info": {
      "name": "python38-azureml"
    },
    "kernelspec": {
      "name": "python38-azureml",
      "language": "python",
      "display_name": "Python 3.8 - AzureML"
    },
    "language_info": {
      "name": "python",
      "version": "3.8.5",
      "mimetype": "text/x-python",
      "codemirror_mode": {
        "name": "ipython",
        "version": 3
      },
      "pygments_lexer": "ipython3",
      "nbconvert_exporter": "python",
      "file_extension": ".py"
    },
    "microsoft": {
      "host": {
        "AzureML": {
          "notebookHasBeenCompleted": true
        }
      }
    },
    "nteract": {
      "version": "nteract-front-end@1.0.0"
    }
  },
  "nbformat": 4,
  "nbformat_minor": 4
}