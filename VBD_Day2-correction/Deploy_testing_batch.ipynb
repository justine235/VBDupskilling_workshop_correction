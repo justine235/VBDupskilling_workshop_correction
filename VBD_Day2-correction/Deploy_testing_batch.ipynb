{
  "cells": [
    {
      "cell_type": "code",
      "source": [
        "import uuid\r\n",
        "from azure.ai.ml import command\r\n",
        "from azure.ai.ml.entities import Data\r\n",
        "from azure.ai.ml import Input\r\n",
        "from azure.ai.ml.constants import AssetTypes, InputOutputModes\r\n",
        "from azure.ai.ml import MLClient\r\n",
        "from azure.identity import DefaultAzureCredential\r\n",
        "from azure.ai.ml.entities import (\r\n",
        "    ManagedOnlineEndpoint,\r\n",
        "    ManagedOnlineDeployment,\r\n",
        "    Model,\r\n",
        "    CodeConfiguration,\r\n",
        "    Environment,\r\n",
        ")\r\n",
        "\r\n",
        "ml_client = MLClient.from_config(credential=DefaultAzureCredential())"
      ],
      "outputs": [
        {
          "output_type": "stream",
          "name": "stderr",
          "text": "Found the config file in: /mnt/batch/tasks/shared/LS_root/mounts/clusters/jcharley4/code/Users/jcharley/config.json\n"
        }
      ],
      "execution_count": 2,
      "metadata": {
        "gather": {
          "logged": 1674557005525
        }
      }
    },
    {
      "cell_type": "markdown",
      "source": [
        "Batch endpoints are endpoints that are used to do batch inferencing on large volumes of data over a period of time. \r\n",
        "\r\n",
        "Batch endpoints receive pointers to data and run jobs asynchronously to process the data in parallel on compute clusters. Batch endpoints store outputs to a data store for further analysis."
      ],
      "metadata": {
        "nteract": {
          "transient": {
            "deleting": false
          }
        }
      }
    },
    {
      "cell_type": "markdown",
      "source": [
        "### STEP 1 : create batch compute (cluster)"
      ],
      "metadata": {
        "nteract": {
          "transient": {
            "deleting": false
          }
        }
      }
    },
    {
      "cell_type": "code",
      "source": [
        "# create compute cluster to be used by batch cluster\r\n",
        "from azure.ai.ml.entities import AmlCompute\r\n",
        "\r\n",
        "my_cluster = AmlCompute(\r\n",
        "    name=\"batch-cluster\",\r\n",
        "    type=\"amlcompute\", \r\n",
        "    size=\"STANDARD_DS3_V2\", \r\n",
        "    min_instances=0, \r\n",
        "    max_instances=2,\r\n",
        "    location=\"westeurope\", \t\r\n",
        ")\r\n",
        "ml_client.compute.begin_create_or_update(my_cluster)"
      ],
      "outputs": [
        {
          "output_type": "execute_result",
          "execution_count": 3,
          "data": {
            "text/plain": "AmlCompute({'type': 'amlcompute', 'created_on': None, 'provisioning_state': 'Succeeded', 'provisioning_errors': None, 'name': 'batch-cluster', 'description': None, 'tags': {}, 'properties': {}, 'id': '/subscriptions/66914bb5-9cb2-4f6d-a84d-8ff900446b22/resourceGroups/Learning/providers/Microsoft.MachineLearningServices/workspaces/test_learn/computes/batch-cluster', 'base_path': './', 'creation_context': None, 'serialize': <msrest.serialization.Serializer object at 0x7f4561252440>, 'resource_id': None, 'location': 'westeurope', 'size': 'STANDARD_DS3_V2', 'min_instances': 0, 'max_instances': 2, 'idle_time_before_scale_down': 120.0, 'identity': None, 'ssh_public_access_enabled': True, 'ssh_settings': None, 'network_settings': <azure.ai.ml.entities._compute.compute.NetworkSettings object at 0x7f4561253070>, 'tier': 'dedicated'})"
          },
          "metadata": {}
        }
      ],
      "execution_count": 3,
      "metadata": {
        "jupyter": {
          "source_hidden": false,
          "outputs_hidden": false
        },
        "nteract": {
          "transient": {
            "deleting": false
          }
        },
        "gather": {
          "logged": 1674557045573
        }
      }
    },
    {
      "cell_type": "markdown",
      "source": [
        "### STEP2 : Create Batch Endpoint"
      ],
      "metadata": {
        "nteract": {
          "transient": {
            "deleting": false
          }
        }
      }
    },
    {
      "cell_type": "code",
      "source": [
        "# Creating a unique name for the endpoint\r\n",
        "batch_endpoint_name = \"taxi-batch-\" + str(uuid.uuid4())[:8]\r\n",
        "print(batch_endpoint_name)"
      ],
      "outputs": [
        {
          "output_type": "stream",
          "name": "stdout",
          "text": "taxi-batch-c67fd0de\n"
        }
      ],
      "execution_count": 4,
      "metadata": {
        "jupyter": {
          "source_hidden": false,
          "outputs_hidden": false
        },
        "nteract": {
          "transient": {
            "deleting": false
          }
        },
        "gather": {
          "logged": 1674557091596
        }
      }
    },
    {
      "cell_type": "code",
      "source": [
        "# create batch endpoint\r\n",
        "from azure.ai.ml.entities import BatchEndpoint\r\n",
        "\r\n",
        "batch_endpoint = BatchEndpoint(\r\n",
        "    name=batch_endpoint_name,\r\n",
        "    description=\"Taxi batch endpoint\",\r\n",
        "    tags={\"model\": \"taxi-model@latest\"},\r\n",
        ")\r\n",
        "\r\n",
        "ml_client.begin_create_or_update(batch_endpoint)\r\n"
      ],
      "outputs": [
        {
          "output_type": "execute_result",
          "execution_count": 5,
          "data": {
            "text/plain": "BatchEndpoint({'scoring_uri': 'https://taxi-batch-c67fd0de.westeurope.inference.ml.azure.com/jobs', 'swagger_uri': None, 'provisioning_state': 'Succeeded', 'name': 'taxi-batch-c67fd0de', 'description': 'Taxi batch endpoint', 'tags': {'model': 'taxi-model@latest'}, 'properties': {'BatchEndpointCreationApiVersion': '2022-05-01', 'azureml.onlineendpointid': '/subscriptions/66914bb5-9cb2-4f6d-a84d-8ff900446b22/resourcegroups/learning/providers/microsoft.machinelearningservices/workspaces/test_learn/onlineendpoints/taxi-batch-c67fd0de', 'AzureAsyncOperationUri': 'https://management.azure.com/subscriptions/66914bb5-9cb2-4f6d-a84d-8ff900446b22/providers/Microsoft.MachineLearningServices/locations/westeurope/mfeOperationsStatus/be:75310cf9-c772-4f21-9638-4129bab98f70:185b71c4-b068-4977-b099-3e94f2e8d846?api-version=2022-05-01'}, 'id': '/subscriptions/66914bb5-9cb2-4f6d-a84d-8ff900446b22/resourceGroups/Learning/providers/Microsoft.MachineLearningServices/workspaces/test_learn/batchEndpoints/taxi-batch-c67fd0de', 'base_path': './', 'creation_context': None, 'serialize': <msrest.serialization.Serializer object at 0x7f4561252680>, 'auth_mode': 'aad_token', 'location': 'westeurope', 'defaults': <azure.ai.ml._restclient.v2022_05_01.models._models_py3.BatchEndpointDefaults object at 0x7f4561252e90>})"
          },
          "metadata": {}
        }
      ],
      "execution_count": 5,
      "metadata": {
        "jupyter": {
          "source_hidden": false,
          "outputs_hidden": false
        },
        "nteract": {
          "transient": {
            "deleting": false
          }
        },
        "gather": {
          "logged": 1674557135589
        }
      }
    },
    {
      "cell_type": "markdown",
      "source": [
        "### STEP3 : Create Batch Deployment"
      ],
      "metadata": {
        "nteract": {
          "transient": {
            "deleting": false
          }
        }
      }
    },
    {
      "cell_type": "code",
      "source": [
        "# create batch deployment\r\n",
        "from azure.ai.ml.entities import BatchDeployment, Model, Environment\r\n",
        "from azure.ai.ml.constants import BatchDeploymentOutputAction\r\n",
        "\r\n",
        "model = \"taxi-model@latest\"\r\n",
        "\r\n",
        "batch_deployment = BatchDeployment(\r\n",
        "    name=\"taxi-batch-dp\",\r\n",
        "    description=\"this is a sample batch deployment\",\r\n",
        "    endpoint_name=batch_endpoint_name,\r\n",
        "    model=model,\r\n",
        "    compute=\"batch-cluster\",\r\n",
        "    instance_count=2,\r\n",
        "    max_concurrency_per_instance=2,\r\n",
        "    mini_batch_size=10,\r\n",
        "    output_action=BatchDeploymentOutputAction.APPEND_ROW,\r\n",
        "    output_file_name=\"predictions.csv\",\r\n",
        ")\r\n",
        "\r\n",
        "ml_client.begin_create_or_update(batch_deployment)\r\n"
      ],
      "outputs": [
        {
          "output_type": "execute_result",
          "execution_count": 8,
          "data": {
            "text/plain": "BatchDeployment({'endpoint_name': 'taxi-batch-c67fd0de', 'type': None, 'name': 'taxi-batch-dp', 'description': 'this is a sample batch deployment', 'tags': {}, 'properties': {}, 'id': '/subscriptions/66914bb5-9cb2-4f6d-a84d-8ff900446b22/resourceGroups/Learning/providers/Microsoft.MachineLearningServices/workspaces/test_learn/batchEndpoints/taxi-batch-c67fd0de/deployments/taxi-batch-dp', 'base_path': './', 'creation_context': None, 'serialize': <msrest.serialization.Serializer object at 0x7f4553479f60>, 'model': '/subscriptions/66914bb5-9cb2-4f6d-a84d-8ff900446b22/resourceGroups/Learning/providers/Microsoft.MachineLearningServices/workspaces/test_learn/models/taxi-model/versions/2', 'code_configuration': None, 'environment': None, 'environment_variables': {}, 'compute': '/subscriptions/66914bb5-9cb2-4f6d-a84d-8ff900446b22/resourceGroups/Learning/providers/Microsoft.MachineLearningServices/workspaces/test_learn/computes/batch-cluster', 'resources': {'instance_count': 2, 'properties': {}}, 'output_action': 'append_row', 'output_file_name': 'predictions.csv', 'error_threshold': -1, 'retry_settings': <azure.ai.ml.entities._deployment.deployment_settings.BatchRetrySettings object at 0x7f4553479ae0>, 'logging_level': 'Info', 'mini_batch_size': 10, 'max_concurrency_per_instance': 2})"
          },
          "metadata": {}
        }
      ],
      "execution_count": 8,
      "metadata": {
        "jupyter": {
          "source_hidden": false,
          "outputs_hidden": false
        },
        "nteract": {
          "transient": {
            "deleting": false
          }
        },
        "gather": {
          "logged": 1674557214519
        }
      }
    },
    {
      "cell_type": "code",
      "source": [
        "batch_endpoint = ml_client.batch_endpoints.get(batch_endpoint_name)\r\n",
        "batch_endpoint.defaults.deployment_name = batch_deployment.name\r\n",
        "ml_client.batch_endpoints.begin_create_or_update(batch_endpoint)"
      ],
      "outputs": [
        {
          "output_type": "execute_result",
          "execution_count": 9,
          "data": {
            "text/plain": "BatchEndpoint({'scoring_uri': 'https://taxi-batch-c67fd0de.westeurope.inference.ml.azure.com/jobs', 'swagger_uri': None, 'provisioning_state': 'Succeeded', 'name': 'taxi-batch-c67fd0de', 'description': 'Taxi batch endpoint', 'tags': {'model': 'taxi-model@latest'}, 'properties': {'BatchEndpointCreationApiVersion': '2022-05-01', 'azureml.onlineendpointid': '/subscriptions/66914bb5-9cb2-4f6d-a84d-8ff900446b22/resourcegroups/learning/providers/microsoft.machinelearningservices/workspaces/test_learn/onlineendpoints/taxi-batch-c67fd0de', 'AzureAsyncOperationUri': 'https://management.azure.com/subscriptions/66914bb5-9cb2-4f6d-a84d-8ff900446b22/providers/Microsoft.MachineLearningServices/locations/westeurope/mfeOperationsStatus/be:75310cf9-c772-4f21-9638-4129bab98f70:48008786-1527-4c07-b548-ae83305b45ae?api-version=2022-05-01'}, 'id': '/subscriptions/66914bb5-9cb2-4f6d-a84d-8ff900446b22/resourceGroups/Learning/providers/Microsoft.MachineLearningServices/workspaces/test_learn/batchEndpoints/taxi-batch-c67fd0de', 'base_path': './', 'creation_context': None, 'serialize': <msrest.serialization.Serializer object at 0x7f455347a110>, 'auth_mode': 'aad_token', 'location': 'westeurope', 'defaults': <azure.ai.ml._restclient.v2022_05_01.models._models_py3.BatchEndpointDefaults object at 0x7f455347aaa0>})"
          },
          "metadata": {}
        }
      ],
      "execution_count": 9,
      "metadata": {
        "jupyter": {
          "source_hidden": false,
          "outputs_hidden": false
        },
        "nteract": {
          "transient": {
            "deleting": false
          }
        },
        "gather": {
          "logged": 1674557245668
        }
      }
    },
    {
      "cell_type": "markdown",
      "source": [
        "### STEP 4 : CONSUME"
      ],
      "metadata": {
        "nteract": {
          "transient": {
            "deleting": false
          }
        }
      }
    },
    {
      "cell_type": "code",
      "source": [
        "# invoke and test endpoint\r\n",
        "# Invoke by python sdk or CLI\r\n",
        "from azure.ai.ml import Input\r\n",
        "from azure.ai.ml.constants import AssetTypes, InputOutputModes\r\n",
        "\r\n",
        "input = Input(path=\"./taxi-batch.csv\", \r\n",
        "              type=AssetTypes.URI_FILE, \r\n",
        "              mode=InputOutputModes.DOWNLOAD)\r\n",
        "\r\n",
        "\r\n",
        "# invoke the endpoint for batch scoring job\r\n",
        "ml_client.batch_endpoints.invoke(\r\n",
        "    endpoint_name=batch_endpoint_name,\r\n",
        "    input=input,\r\n",
        "    deployment_name=batch_deployment.name\r\n",
        ")\r\n"
      ],
      "outputs": [
        {
          "output_type": "stream",
          "name": "stderr",
          "text": "\r\u001b[32mUploading taxi-batch.csv\u001b[32m (< 1 MB): 0.00B [00:00, ?B/s]\r\u001b[32mUploading taxi-batch.csv\u001b[32m (< 1 MB): 100%|██████████| 133k/133k [00:00<00:00, 7.88MB/s]\n\u001b[39m\n\n"
        },
        {
          "output_type": "execute_result",
          "execution_count": 12,
          "data": {
            "text/plain": "<azure.ai.ml._restclient.v2020_09_01_dataplanepreview.models._models_py3.BatchJobResource at 0x7f4552c8e230>"
          },
          "metadata": {}
        }
      ],
      "execution_count": 12,
      "metadata": {
        "jupyter": {
          "source_hidden": false,
          "outputs_hidden": false
        },
        "nteract": {
          "transient": {
            "deleting": false
          }
        },
        "gather": {
          "logged": 1674557790603
        }
      }
    }
  ],
  "metadata": {
    "kernelspec": {
      "name": "python310-sdkv2",
      "language": "python",
      "display_name": "Python 3.10 - SDK V2"
    },
    "language_info": {
      "name": "python",
      "version": "3.10.4",
      "mimetype": "text/x-python",
      "codemirror_mode": {
        "name": "ipython",
        "version": 3
      },
      "pygments_lexer": "ipython3",
      "nbconvert_exporter": "python",
      "file_extension": ".py"
    },
    "kernel_info": {
      "name": "python310-sdkv2"
    },
    "microsoft": {
      "host": {
        "AzureML": {
          "notebookHasBeenCompleted": true
        }
      }
    },
    "nteract": {
      "version": "nteract-front-end@1.0.0"
    }
  },
  "nbformat": 4,
  "nbformat_minor": 2
}